{
 "cells": [
  {
   "cell_type": "code",
   "execution_count": null,
   "id": "a9fff595-b424-4d91-8e7f-93cec64d94f7",
   "metadata": {},
   "outputs": [],
   "source": [
    "Project two part 1\n",
    "\n",
    "# Scrape the content of National Post's trending section and save it as a CSV.\n",
    "\n",
    "# We want: titles, subhead, article URL, byline, article type, image URL.\n",
    "\n",
    "# Bonus, if you want to get fancy:\n",
    "\n",
    "#     Make the CSV file auto-updating. Use this tutorial (https://www.youtube.com/watch?v=QNKxzkNpsko) (https://jonathansoma.com/everything/git/auto-updating-scaper-viz/) \n"
   ]
  },
  {
   "cell_type": "code",
   "execution_count": null,
   "id": "e22aedaa-57f7-413a-b261-c13dcfe7110e",
   "metadata": {},
   "outputs": [],
   "source": [
    "#Columns: title, subhead, article URL, whether it's premium or not, byline, article type, image URL."
   ]
  },
  {
   "cell_type": "code",
   "execution_count": 22,
   "id": "da817ec6-a58b-4e0a-972c-74362067189c",
   "metadata": {},
   "outputs": [],
   "source": [
    "import requests\n",
    "from bs4 import BeautifulSoup\n",
    "import pandas as pd\n",
    "\n",
    "url = \"https://nationalpost.com/\"\n",
    "\n",
    "#for anonymnity\n",
    "headers = {\n",
    "    'User-Agent': 'Mozilla/5.0 (Windows NT 10.0; Win64; x64) AppleWebKit/537.36 (KHTML, like Gecko) Chrome/115.0 Safari/537.36'\n",
    "}\n",
    "\n",
    "response = requests.get(url, headers=headers)\n",
    "\n",
    "# Check if the request was successful\n",
    "if response.status_code == 200:\n",
    "    doc = BeautifulSoup(response.text, 'html.parser')\n",
    "    # Now you can use soup.find(), soup.find_all(), etc.\n",
    "else:\n",
    "    print(f\"Request failed with status code: {response.status_code}\")\n"
   ]
  },
  {
   "cell_type": "code",
   "execution_count": 23,
   "id": "71405af3-4350-499a-8d22-88c477324a77",
   "metadata": {},
   "outputs": [
    {
     "name": "stdout",
     "output_type": "stream",
     "text": [
      "HTML saved to NationalPost_homepage.html\n"
     ]
    }
   ],
   "source": [
    "with open(\"NationalPost_homepage.html\", \"w\", encoding=\"utf-8\") as f:\n",
    "    f.write(response.text)\n",
    "\n",
    "print(\"HTML saved to NationalPost_homepage.html\")"
   ]
  },
  {
   "cell_type": "code",
   "execution_count": 37,
   "id": "cf4b9bce-f5b0-45d9-b59d-086ceca936f6",
   "metadata": {},
   "outputs": [],
   "source": [
    "#Find where the articles are nested\n",
    "trending_container = doc.find(\"section\", class_=\"list-widget-trending\")\n"
   ]
  },
  {
   "cell_type": "code",
   "execution_count": 38,
   "id": "cecee1c0-ffdd-4968-a601-98608524dce8",
   "metadata": {},
   "outputs": [
    {
     "name": "stdout",
     "output_type": "stream",
     "text": [
      "5\n"
     ]
    }
   ],
   "source": [
    "#Find all article items inside (there are 5)\n",
    "articles = trending_container.find_all(\"li\", attrs={\"data-carousel-item\": True})\n",
    "print(len(articles))"
   ]
  },
  {
   "cell_type": "code",
   "execution_count": 40,
   "id": "b320215f-117b-425e-aaa9-8684d6bc6a86",
   "metadata": {},
   "outputs": [],
   "source": [
    "#this was for debugging, helped me change from using .find_all to just .find\n",
    "# trending_container = doc.find_all(\"section\")\n",
    "# print(len(trending_container))\n",
    "# for sec in trending_container:\n",
    "#     print(sec.get('class'))\n"
   ]
  },
  {
   "cell_type": "code",
   "execution_count": 33,
   "id": "ebc6e9e9-a163-4d14-8bcd-e133df65353c",
   "metadata": {},
   "outputs": [
    {
     "name": "stdout",
     "output_type": "stream",
     "text": [
      "0\n"
     ]
    }
   ],
   "source": [
    "#Find where the articles are nested\n",
    "trending_container = doc.find_all(\"section\", class_=\"list-widget-trending\"[0])\n",
    "# trending_container = doc.find(\"ol\", class_=\"list-widget__content list-unstyled\")\n",
    "print(len(trending_container))"
   ]
  },
  {
   "cell_type": "code",
   "execution_count": 46,
   "id": "3a96cb3b-a37c-4f9e-98df-66027408e067",
   "metadata": {
    "jupyter": {
     "source_hidden": true
    }
   },
   "outputs": [],
   "source": [
    "# # # #this is the code for a sample chunk in the list of articles that I'm trying to parse \n",
    "# <div class=\"col-xs-12 col-sm-4 col-lg-3 list__widgets list__widgets--category-feed\">\n",
    "#                     <section class=\"list-widget list-widget-trending list\"\n",
    "#                         aria-labelledby=Trending8763705724876057306253188287954944 data-aqa=widget-list data-async\n",
    "#                         data-category-colour=default data-tb-region=Trending data-trending-widget-component>\n",
    "#                         <div class=\"widget-title widget-title--list-widget flex-align-center\">\n",
    "#                             <div class=\"h2 widget-title__heading\" id=Trending8763705724876057306253188287954944>Trending\n",
    "#                             </div>\n",
    "#                         </div>\n",
    "#                         <ol class=\"list-widget__content list-unstyled\" data-hide-on-overlap=.ad__container\n",
    "#                             data-hide-on-overlap-component>\n",
    "#                             <li data-carousel-item>\n",
    "#                                 <article class=\"article-card article-card--image-left article-card--hide-padlock\"\n",
    "#                                     data-evt-val='{\"control_fields\": {\"mparticle\": {\"keys\": {\"click_source_type\": \"click_source_type\", \"anchor_text\": \"anchor_text\", \"widget_title\": \"widget_title\", \"target_url\": \"target_url\", \"target_article_title\": \"target_article_title\", \"target_article_id\": \"target_article_id\", \"target_article_position\": \"target_article_position\", \"layout_section\": \"layout_section\"}, \"mp_event_type\": \"Navigation\", \"extra_keys\": [\"click_vertical_position_percentage\", \"click_vertical_position_pixels\"]}}, \"click_source_type\": \"widget-list\", \"anchor_text\": \"U.S.-Canada trade talks back underway as Trump\\u2019s wish list, from oil to DEI, keeps growing\", \"widget_title\": \"Trending\", \"target_url\": \"https://nationalpost.com/news/politics/u-s-canada-trade-talks-back-underway-as-trumps-wish-list-from-oil-to-dei-keeps-growing\", \"target_article_title\": \"U.S.-Canada trade talks back underway as Trump\\u2019s wish list, from oil to DEI, keeps growing\", \"target_article_id\": \"fbbfc9f7-a88b-4955-bf2c-796a710f9bc8\", \"target_article_position\": \"0\", \"layout_section\": \"trending-list\"}'\n",
    "#                                     data-aqa=article-card data-article-id=fbbfc9f7-a88b-4955-bf2c-796a710f9bc8\n",
    "#                                     data-category-colour=news data-evt=click data-evt-typ=click data-tb-region-item>\n",
    "#                                     <div class=\"article-card__content first\">\n",
    "#                                         <div class=article-card__details><a\n",
    "#                                                 aria-label=\"U.S.-Canada trade talks back underway as Trump’s wish list, from oil to DEI, keeps growing\"\n",
    "#                                                 class=article-card__link data-tb-link\n",
    "#                                                 href=/news/politics/u-s-canada-trade-talks-back-underway-as-trumps-wish-list-from-oil-to-dei-keeps-growing>\n",
    "#                                                 <h3 class=\"article-card__headline m-0\"\n",
    "#                                                     title=\"U.S.-Canada trade talks back underway as Trump’s wish list, from oil to DEI, keeps growing \">\n",
    "#                                                     <span class=article-card__headline-clamp data-tb-title>U.S.-Canada\n",
    "#                                                         trade talks back underway as Trump’s wish list, from oil to DEI,\n",
    "#                                                         keeps growing</span></h3>\n",
    "#                                             </a></div><a\n",
    "#                                             aria-label=\"U.S.-Canada trade talks back underway as Trump’s wish list, from oil to DEI, keeps growing\"\n",
    "#                                             class=article-card__image-link data-tb-link\n",
    "#                                             href=/news/politics/u-s-canada-trade-talks-back-underway-as-trumps-wish-list-from-oil-to-dei-keeps-growing\n",
    "#                                             tabindex=-1>\n",
    "#                                             <picture class=article-card__image>\n",
    "#                                                 <source\n",
    "#                                                     data-srcset=\"https://smartcdn.gprod.postmedia.digital/nationalpost/wp-content/uploads/2025/07/Trump.jpg?quality=90&strip=all&w=344&type=webp&sig=SiT3riEm-flmfXMaDd6Oag,\n",
    "#             https://smartcdn.gprod.postmedia.digital/nationalpost/wp-content/uploads/2025/07/Trump.jpg?quality=90&strip=all&w=688&type=webp&sig=PazabwUuTA6cjNziO8qcEg 2x\"\n",
    "#                                                     media=\"(min-width: 1200px)\" srcset=data:,1w type=image/webp>\n",
    "#                                                 <source\n",
    "#                                                     data-srcset=\"https://smartcdn.gprod.postmedia.digital/nationalpost/wp-content/uploads/2025/07/Trump.jpg?quality=90&strip=all&w=344&type=jpg&sig=7jze5o9F1VhEAHPYd-3mDw,\n",
    "#                 https://smartcdn.gprod.postmedia.digital/nationalpost/wp-content/uploads/2025/07/Trump.jpg?quality=90&strip=all&w=688&type=jpg&sig=xtX8oXzk-SqXoaKI_NMt_A 2x\"\n",
    "#                                                     media=\"(min-width: 1200px)\" srcset=data:,1w type=image/jpeg>\n",
    "#                                                 <source\n",
    "#                                                     data-srcset=\"https://smartcdn.gprod.postmedia.digital/nationalpost/wp-content/uploads/2025/07/Trump.jpg?quality=90&strip=all&w=322&type=webp&sig=blkyvnilno3KVtZIMMZ2ww,\n",
    "#             https://smartcdn.gprod.postmedia.digital/nationalpost/wp-content/uploads/2025/07/Trump.jpg?quality=90&strip=all&w=644&type=webp&sig=djgK__spUL_mqQPgnvW6ww 2x\"\n",
    "#                                                     media=\"(min-width: 768px)\" srcset=data:,1w type=image/webp>\n",
    "#                                                 <source\n",
    "#                                                     data-srcset=\"https://smartcdn.gprod.postmedia.digital/nationalpost/wp-content/uploads/2025/07/Trump.jpg?quality=90&strip=all&w=322&type=jpg&sig=LwF77RNzXw1wXYubeOCDNA,\n",
    "#                 https://smartcdn.gprod.postmedia.digital/nationalpost/wp-content/uploads/2025/07/Trump.jpg?quality=90&strip=all&w=644&type=jpg&sig=PVA3NVGsTQjIOTpiA9rvzA 2x\"\n",
    "#                                                     media=\"(min-width: 768px)\" srcset=data:,1w type=image/jpeg>\n",
    "#                                                 <source\n",
    "#                                                     data-srcset=\"https://smartcdn.gprod.postmedia.digital/nationalpost/wp-content/uploads/2025/07/Trump.jpg?quality=90&strip=all&w=232&type=webp&sig=c_6R0-JfJJ6Q42_fpm4l8A,\n",
    "#             https://smartcdn.gprod.postmedia.digital/nationalpost/wp-content/uploads/2025/07/Trump.jpg?quality=90&strip=all&w=464&type=webp&sig=GIJ8j_ykNt9ECZ9WuivmuA 2x\"\n",
    "#                                                     media=\"(max-width: 767px)\" srcset=data:,1w type=image/webp><img\n",
    "#                                                     data-src=\"https://smartcdn.gprod.postmedia.digital/nationalpost/wp-content/uploads/2025/07/Trump.jpg?quality=90&strip=all&w=232&sig=q1JzD7NcjC11fbXPOHO9DQ\"\n",
    "#                                                     data-srcset=\"https://smartcdn.gprod.postmedia.digital/nationalpost/wp-content/uploads/2025/07/Trump.jpg?quality=90&strip=all&w=232&sig=q1JzD7NcjC11fbXPOHO9DQ,\n",
    "#                         https://smartcdn.gprod.postmedia.digital/nationalpost/wp-content/uploads/2025/07/Trump.jpg?quality=90&strip=all&w=464&sig=68ZTSRUPoXDH9Igs5Iij9g 2x\"\n",
    "#                                                     src=\"https://smartcdn.gprod.postmedia.digital/nationalpost/wp-content/uploads/2025/07/Trump.jpg?quality=5&strip=all&w=100&sig=7WQpAPgwQ1zaAuwWrbwjjg\"\n",
    "#                                                     alt=trump class=lazyload data-tb-thumbnail height=174 loading=lazy\n",
    "#                                                     width=232>\n",
    "#                                             </picture>\n",
    "#                                         </a>\n",
    "#                                     </div><a class=hidden data-tb-category-link href=/category/news/politics /> <span\n",
    "#                                         data-evt-skip-click=true data-tb-category> Canadian Politics </span> </a>\n",
    "#                                 </article>\n",
    "#                             </li>"
   ]
  },
  {
   "cell_type": "code",
   "execution_count": 42,
   "id": "cce8234e-43e9-48c2-a717-d8f54a210c51",
   "metadata": {},
   "outputs": [
    {
     "name": "stdout",
     "output_type": "stream",
     "text": [
      "Rank: 1\n",
      "Title: U.S.-Canada trade talks back underway as Trump’s wish list, from oil to DEI, keeps growing\n",
      "URL: https://nationalpost.com/news/politics/u-s-canada-trade-talks-back-underway-as-trumps-wish-list-from-oil-to-dei-keeps-growing\n",
      "---\n",
      "Rank: 2\n",
      "Title: Carney pitches major project powers to skeptical First Nations as advancing 'Indigenous economic growth'\n",
      "URL: https://nationalpost.com/news/politics/carney-pitches-major-project-powers-to-skeptical-first-nations-as-advancing-indigenous-economic-growth\n",
      "---\n",
      "Rank: 3\n",
      "Title: Michael A. Sachs: Why I'm moving my family to the United States\n",
      "URL: https://nationalpost.com/opinion/why-im-moving-my-family-to-the-united-states\n",
      "---\n",
      "Rank: 4\n",
      "Title: Carney hits China and free-trade partners with steel tariffs, calls for stronger domestic production\n",
      "URL: https://nationalpost.com/news/canada/canada-steel-china-new-tariffs\n",
      "---\n",
      "Rank: 5\n",
      "Title: What we know about unusual spike in asylum claims at this Quebec border crossing\n",
      "URL: https://nationalpost.com/news/canada/quebec-border-crossing-asylum-haiti\n",
      "---\n"
     ]
    }
   ],
   "source": [
    "#though this page has numbered ranks, they are under shadowDOM, so we will use enumerate here again\n",
    "\n",
    "# Loop through the eight elements in the list, pulling the information I want \n",
    "for rank, article in enumerate(articles, start=1):\n",
    "    title_tag = article.find(\"h3\", class_=\"article-card__headline\")\n",
    "    link_tag = article.find(\"a\", class_=\"article-card__link\")\n",
    "\n",
    "\n",
    "    title = title_tag.get_text(strip=True) if title_tag else 'No title'\n",
    "    href = link_tag.get('href') if link_tag else ''\n",
    "    full_url = href if href.startswith('http') else 'https://nationalpost.com' + href\n",
    "\n",
    "    print(\"Rank:\", rank)\n",
    "    print(\"Title:\", title)\n",
    "    print(\"URL:\", full_url)\n",
    "    print(\"---\")\n",
    "\n"
   ]
  },
  {
   "cell_type": "code",
   "execution_count": 46,
   "id": "57c77619-9522-412b-880f-8ee9c5151999",
   "metadata": {},
   "outputs": [
    {
     "name": "stdout",
     "output_type": "stream",
     "text": [
      "Total articles scraped: 5\n"
     ]
    }
   ],
   "source": [
    "rows = []  # List to store all article dicts\n",
    "\n",
    "for rank, article in enumerate(articles, start=1):\n",
    "    row = {}\n",
    "    #Rank (Though this page has numbered ranks, they are under shadowDOM, so we will use enumerate here again)\n",
    "    row['Rank'] = rank \n",
    "    \n",
    "    # Title (required)\n",
    "    title_tag = article.find(\"h3\", class_=\"article-card__headline\")\n",
    "    row['Article title'] = title_tag.get_text(strip=True) if title_tag else 'No title'\n",
    "\n",
    "    # URL (required)\n",
    "    link_tag = article.find(\"a\", class_=\"article-card__link\")\n",
    "    href = link_tag.get('href') if link_tag else ''\n",
    "    full_url = href if href.startswith('http') else 'https://nationalpost.com' + href\n",
    "    row['url'] = full_url\n",
    "\n",
    "    rows.append(row)\n",
    "\n",
    "print(f\"Total articles scraped: {len(rows)}\")\n"
   ]
  },
  {
   "cell_type": "code",
   "execution_count": 47,
   "id": "06b21906-d98c-4301-aa8a-f51f2f0ba728",
   "metadata": {},
   "outputs": [],
   "source": [
    "df = pd.json_normalize(rows)"
   ]
  },
  {
   "cell_type": "code",
   "execution_count": 48,
   "id": "75ef3117-f790-49ae-bd4a-ce17354de065",
   "metadata": {},
   "outputs": [
    {
     "data": {
      "text/html": [
       "<div>\n",
       "<style scoped>\n",
       "    .dataframe tbody tr th:only-of-type {\n",
       "        vertical-align: middle;\n",
       "    }\n",
       "\n",
       "    .dataframe tbody tr th {\n",
       "        vertical-align: top;\n",
       "    }\n",
       "\n",
       "    .dataframe thead th {\n",
       "        text-align: right;\n",
       "    }\n",
       "</style>\n",
       "<table border=\"1\" class=\"dataframe\">\n",
       "  <thead>\n",
       "    <tr style=\"text-align: right;\">\n",
       "      <th></th>\n",
       "      <th>Rank</th>\n",
       "      <th>Article title</th>\n",
       "      <th>url</th>\n",
       "    </tr>\n",
       "  </thead>\n",
       "  <tbody>\n",
       "    <tr>\n",
       "      <th>0</th>\n",
       "      <td>1</td>\n",
       "      <td>U.S.-Canada trade talks back underway as Trump...</td>\n",
       "      <td>https://nationalpost.com/news/politics/u-s-can...</td>\n",
       "    </tr>\n",
       "    <tr>\n",
       "      <th>1</th>\n",
       "      <td>2</td>\n",
       "      <td>Carney pitches major project powers to skeptic...</td>\n",
       "      <td>https://nationalpost.com/news/politics/carney-...</td>\n",
       "    </tr>\n",
       "    <tr>\n",
       "      <th>2</th>\n",
       "      <td>3</td>\n",
       "      <td>Michael A. Sachs: Why I'm moving my family to ...</td>\n",
       "      <td>https://nationalpost.com/opinion/why-im-moving...</td>\n",
       "    </tr>\n",
       "    <tr>\n",
       "      <th>3</th>\n",
       "      <td>4</td>\n",
       "      <td>Carney hits China and free-trade partners with...</td>\n",
       "      <td>https://nationalpost.com/news/canada/canada-st...</td>\n",
       "    </tr>\n",
       "    <tr>\n",
       "      <th>4</th>\n",
       "      <td>5</td>\n",
       "      <td>What we know about unusual spike in asylum cla...</td>\n",
       "      <td>https://nationalpost.com/news/canada/quebec-bo...</td>\n",
       "    </tr>\n",
       "  </tbody>\n",
       "</table>\n",
       "</div>"
      ],
      "text/plain": [
       "   Rank                                      Article title  \\\n",
       "0     1  U.S.-Canada trade talks back underway as Trump...   \n",
       "1     2  Carney pitches major project powers to skeptic...   \n",
       "2     3  Michael A. Sachs: Why I'm moving my family to ...   \n",
       "3     4  Carney hits China and free-trade partners with...   \n",
       "4     5  What we know about unusual spike in asylum cla...   \n",
       "\n",
       "                                                 url  \n",
       "0  https://nationalpost.com/news/politics/u-s-can...  \n",
       "1  https://nationalpost.com/news/politics/carney-...  \n",
       "2  https://nationalpost.com/opinion/why-im-moving...  \n",
       "3  https://nationalpost.com/news/canada/canada-st...  \n",
       "4  https://nationalpost.com/news/canada/quebec-bo...  "
      ]
     },
     "execution_count": 48,
     "metadata": {},
     "output_type": "execute_result"
    }
   ],
   "source": [
    "df.head(10)"
   ]
  },
  {
   "cell_type": "code",
   "execution_count": 49,
   "id": "ea0a5f26-56f1-4d3c-8acd-e6c3c305db02",
   "metadata": {},
   "outputs": [],
   "source": [
    "df.to_csv(\"NationalPostScrape.csv\")"
   ]
  },
  {
   "cell_type": "code",
   "execution_count": null,
   "id": "e0d7e682-5de0-4418-886e-3383650d959a",
   "metadata": {},
   "outputs": [],
   "source": []
  }
 ],
 "metadata": {
  "kernelspec": {
   "display_name": "Python 3 (ipykernel)",
   "language": "python",
   "name": "python3"
  },
  "language_info": {
   "codemirror_mode": {
    "name": "ipython",
    "version": 3
   },
   "file_extension": ".py",
   "mimetype": "text/x-python",
   "name": "python",
   "nbconvert_exporter": "python",
   "pygments_lexer": "ipython3",
   "version": "3.12.10"
  }
 },
 "nbformat": 4,
 "nbformat_minor": 5
}
