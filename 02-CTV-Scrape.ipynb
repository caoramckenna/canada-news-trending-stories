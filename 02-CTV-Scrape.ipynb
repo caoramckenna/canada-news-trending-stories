{
 "cells": [
  {
   "cell_type": "code",
   "execution_count": 1,
   "id": "a9fff595-b424-4d91-8e7f-93cec64d94f7",
   "metadata": {},
   "outputs": [],
   "source": [
    "# Project two part 1\n",
    "\n",
    "# Scrape the content of CTV's trending section and save it as a CSV.\n",
    "\n",
    "# We want: titles, subhead, article URL, byline, article type.\n",
    "\n",
    "# Bonus, if you want to get fancy:\n",
    "\n",
    "#     Make the CSV file auto-updating. Use this tutorial (https://www.youtube.com/watch?v=QNKxzkNpsko) (https://jonathansoma.com/everything/git/auto-updating-scaper-viz/) \n"
   ]
  },
  {
   "cell_type": "code",
   "execution_count": 3,
   "id": "e22aedaa-57f7-413a-b261-c13dcfe7110e",
   "metadata": {},
   "outputs": [],
   "source": [
    "#Columns: title, subhead, article URL, whether it's premium or not, byline, article type, image URL."
   ]
  },
  {
   "cell_type": "code",
   "execution_count": 4,
   "id": "da817ec6-a58b-4e0a-972c-74362067189c",
   "metadata": {},
   "outputs": [],
   "source": [
    "import requests\n",
    "from bs4 import BeautifulSoup\n",
    "import pandas as pd\n",
    "\n",
    "url = \"https://www.ctvnews.ca/\"\n",
    "\n",
    "#for anonymnity\n",
    "headers = {\n",
    "    'User-Agent': 'Mozilla/5.0 (Windows NT 10.0; Win64; x64) AppleWebKit/537.36 (KHTML, like Gecko) Chrome/115.0 Safari/537.36'\n",
    "}\n",
    "\n",
    "response = requests.get(url, headers=headers)\n",
    "\n",
    "# Check if the request was successful\n",
    "if response.status_code == 200:\n",
    "    doc = BeautifulSoup(response.text, 'html.parser')\n",
    "    # Now you can use soup.find(), soup.find_all(), etc.\n",
    "else:\n",
    "    print(f\"Request failed with status code: {response.status_code}\")\n"
   ]
  },
  {
   "cell_type": "code",
   "execution_count": 5,
   "id": "5669a121-116d-4582-803e-d47af068e45a",
   "metadata": {},
   "outputs": [
    {
     "name": "stdout",
     "output_type": "stream",
     "text": [
      "HTML saved to CTV_homepage.html\n"
     ]
    }
   ],
   "source": [
    "with open(\"CTV_homepage.html\", \"w\", encoding=\"utf-8\") as f:\n",
    "    f.write(response.text)\n",
    "\n",
    "print(\"HTML saved to CTV_homepage.html\")"
   ]
  },
  {
   "cell_type": "code",
   "execution_count": 6,
   "id": "d56e4fe8-4f76-4b15-9761-351d9b4df201",
   "metadata": {},
   "outputs": [],
   "source": [
    "with open(\"CTV_homepage.html\", \"r\", encoding=\"utf-8\") as f:\n",
    "    html = f.read()\n",
    "\n",
    "soup = BeautifulSoup(html, \"html.parser\")"
   ]
  },
  {
   "cell_type": "code",
   "execution_count": 7,
   "id": "dec96967-971c-4508-8e04-25440503f097",
   "metadata": {},
   "outputs": [],
   "source": [
    "#Locate the Top Videos section container\n",
    "top_videos_container = soup.find(\"div\", class_=\"c-grid b-standard-list-custom__items\")\n"
   ]
  },
  {
   "cell_type": "code",
   "execution_count": 8,
   "id": "93462046-e7c9-4c48-8936-d4601fca292a",
   "metadata": {},
   "outputs": [],
   "source": [
    "#Find all article items inside\n",
    "video_articles = top_videos_container.find_all(\"article\", class_=\"c-stack b-standard-list-custom__item\")\n"
   ]
  },
  {
   "cell_type": "code",
   "execution_count": 9,
   "id": "87916d2c-95ea-4ff2-b393-c8b8828560c9",
   "metadata": {},
   "outputs": [
    {
     "name": "stdout",
     "output_type": "stream",
     "text": [
      "There are 3 articles in the trending box\n"
     ]
    }
   ],
   "source": [
    "#Check how many, there should be 8, though sometimes there could be 9 it looks like \n",
    "print(f\"There are {len(video_articles)} articles in the trending box\")"
   ]
  },
  {
   "cell_type": "code",
   "execution_count": 10,
   "id": "e6b142ea-7d6d-4567-84f0-d5fdb3684e67",
   "metadata": {},
   "outputs": [
    {
     "name": "stdout",
     "output_type": "stream",
     "text": [
      "Rank: 1\n",
      "Title: Pet owners warned of ticks transmitting Rocky Mountain Spotted FeverOpens in new window\n",
      "URL: https://www.ctvnews.ca//kitchener/article/pet-owners-warned-of-ticks-transmitting-rocky-mountain-spotted-fever/\n",
      "---\n",
      "Rank: 2\n",
      "Title: ‘We’re going to have to rebuild our life’: Family’s home burns after cancelling home insuranceOpens in new window\n",
      "URL: https://www.ctvnews.ca//canada/article/were-going-to-have-to-rebuild-our-life-familys-home-burns-after-cancelling-home-insurance/\n",
      "---\n",
      "Rank: 3\n",
      "Title: ‘Japanese walking’: Does the TikTok trend live up to the hype?Opens in new window\n",
      "URL: https://www.ctvnews.ca//health/article/japanese-walking-does-the-tiktok-trend-live-up-to-the-hype/\n",
      "---\n"
     ]
    }
   ],
   "source": [
    "# Loop through the eight elements in the list, pulling the information I want \n",
    "for rank, link in enumerate(video_articles, start=1):\n",
    "    title_tag = link.find(\"h3\")\n",
    "    link_tag = title_tag.find(\"a\") if title_tag else None\n",
    "    label_tag = link.find('span', class_='tgam-label')\n",
    "\n",
    "    title = title_tag.get_text(strip=True) if title_tag else 'No title'\n",
    "    href = link_tag.get('href', '') if link_tag else ''\n",
    "    full_url = url + href if href.startswith('/') else href\n",
    "\n",
    "    print(\"Rank:\", rank)\n",
    "    print(\"Title:\", title)\n",
    "    print(\"URL:\", full_url)\n",
    "    print(\"---\")"
   ]
  },
  {
   "cell_type": "code",
   "execution_count": 18,
   "id": "7658c6df-88e4-4629-87fc-c842c3a38bab",
   "metadata": {},
   "outputs": [],
   "source": [
    "#Loop and extract data\n",
    "rows = []\n",
    "for rank, item in enumerate(video_articles, start=1):\n",
    "    row = {}\n",
    "    # Rank\n",
    "    row[\"rank\"] = rank\n",
    "    \n",
    "    # Title\n",
    "    headline_tag = item.find(\"h3\")\n",
    "    row[\"Article title\"] = headline_tag.get_text(strip=True) if headline_tag else \"No title\"\n",
    "    \n",
    "    # URL \n",
    "    link_tag = headline_tag.find(\"a\") if headline_tag else None\n",
    "    href = link_tag.get(\"href\", \"\") if link_tag else \"\"\n",
    "    row[\"url\"] = href if href.startswith(\"http\") else f\"https://www.ctvnews.ca{href}\" if href else \"No URL\"\n",
    "\n",
    "    \n",
    "\n",
    "    rows.append(row)"
   ]
  },
  {
   "cell_type": "code",
   "execution_count": 19,
   "id": "a1bee8a9-1795-4448-b594-f97d72b48d2f",
   "metadata": {},
   "outputs": [],
   "source": [
    "import pandas as pd"
   ]
  },
  {
   "cell_type": "code",
   "execution_count": 20,
   "id": "50d7d896-ea7f-4897-af4d-95af311aec13",
   "metadata": {},
   "outputs": [],
   "source": [
    "df = pd.json_normalize(rows)"
   ]
  },
  {
   "cell_type": "code",
   "execution_count": 24,
   "id": "75ef3117-f790-49ae-bd4a-ce17354de065",
   "metadata": {},
   "outputs": [
    {
     "data": {
      "text/html": [
       "<div>\n",
       "<style scoped>\n",
       "    .dataframe tbody tr th:only-of-type {\n",
       "        vertical-align: middle;\n",
       "    }\n",
       "\n",
       "    .dataframe tbody tr th {\n",
       "        vertical-align: top;\n",
       "    }\n",
       "\n",
       "    .dataframe thead th {\n",
       "        text-align: right;\n",
       "    }\n",
       "</style>\n",
       "<table border=\"1\" class=\"dataframe\">\n",
       "  <thead>\n",
       "    <tr style=\"text-align: right;\">\n",
       "      <th></th>\n",
       "      <th>rank</th>\n",
       "      <th>Article title</th>\n",
       "      <th>url</th>\n",
       "      <th>title_with_link</th>\n",
       "    </tr>\n",
       "  </thead>\n",
       "  <tbody>\n",
       "    <tr>\n",
       "      <th>0</th>\n",
       "      <td>1</td>\n",
       "      <td>Pet owners warned of ticks transmitting Rocky ...</td>\n",
       "      <td>https://www.ctvnews.ca/kitchener/article/pet-o...</td>\n",
       "      <td>&lt;a href=\"https://www.ctvnews.ca/kitchener/arti...</td>\n",
       "    </tr>\n",
       "    <tr>\n",
       "      <th>1</th>\n",
       "      <td>2</td>\n",
       "      <td>‘We’re going to have to rebuild our life’: Fam...</td>\n",
       "      <td>https://www.ctvnews.ca/canada/article/were-goi...</td>\n",
       "      <td>&lt;a href=\"https://www.ctvnews.ca/canada/article...</td>\n",
       "    </tr>\n",
       "    <tr>\n",
       "      <th>2</th>\n",
       "      <td>3</td>\n",
       "      <td>‘Japanese walking’: Does the TikTok trend live...</td>\n",
       "      <td>https://www.ctvnews.ca/health/article/japanese...</td>\n",
       "      <td>&lt;a href=\"https://www.ctvnews.ca/health/article...</td>\n",
       "    </tr>\n",
       "  </tbody>\n",
       "</table>\n",
       "</div>"
      ],
      "text/plain": [
       "   rank                                      Article title  \\\n",
       "0     1  Pet owners warned of ticks transmitting Rocky ...   \n",
       "1     2  ‘We’re going to have to rebuild our life’: Fam...   \n",
       "2     3  ‘Japanese walking’: Does the TikTok trend live...   \n",
       "\n",
       "                                                 url  \\\n",
       "0  https://www.ctvnews.ca/kitchener/article/pet-o...   \n",
       "1  https://www.ctvnews.ca/canada/article/were-goi...   \n",
       "2  https://www.ctvnews.ca/health/article/japanese...   \n",
       "\n",
       "                                     title_with_link  \n",
       "0  <a href=\"https://www.ctvnews.ca/kitchener/arti...  \n",
       "1  <a href=\"https://www.ctvnews.ca/canada/article...  \n",
       "2  <a href=\"https://www.ctvnews.ca/health/article...  "
      ]
     },
     "execution_count": 24,
     "metadata": {},
     "output_type": "execute_result"
    }
   ],
   "source": [
    "df.head(10)"
   ]
  },
  {
   "cell_type": "code",
   "execution_count": 25,
   "id": "7d6de629-34f1-42ff-bbb8-24bdb3f54b1d",
   "metadata": {},
   "outputs": [
    {
     "data": {
      "text/plain": [
       "0    https://www.ctvnews.ca/kitchener/article/pet-o...\n",
       "1    https://www.ctvnews.ca/canada/article/were-goi...\n",
       "2    https://www.ctvnews.ca/health/article/japanese...\n",
       "Name: url, dtype: object"
      ]
     },
     "execution_count": 25,
     "metadata": {},
     "output_type": "execute_result"
    }
   ],
   "source": [
    "df['url']\n"
   ]
  },
  {
   "cell_type": "code",
   "execution_count": 26,
   "id": "d921bc20-cb17-4e82-9a3f-fbcdff54157f",
   "metadata": {},
   "outputs": [],
   "source": [
    "#adding column with the href hyperlinked url to the title, for datawrapper\n",
    "df[\"title_with_link\"] = df.apply(lambda row: f'<a href=\"{row[\"url\"]}\">{row[\"Article title\"]}</a>', axis=1)"
   ]
  },
  {
   "cell_type": "code",
   "execution_count": 27,
   "id": "ea0a5f26-56f1-4d3c-8acd-e6c3c305db02",
   "metadata": {},
   "outputs": [],
   "source": [
    "df.to_csv(\"CTVScrape.csv\", index=False)"
   ]
  },
  {
   "cell_type": "code",
   "execution_count": null,
   "id": "e0d7e682-5de0-4418-886e-3383650d959a",
   "metadata": {},
   "outputs": [],
   "source": []
  }
 ],
 "metadata": {
  "kernelspec": {
   "display_name": "Python 3 (ipykernel)",
   "language": "python",
   "name": "python3"
  },
  "language_info": {
   "codemirror_mode": {
    "name": "ipython",
    "version": 3
   },
   "file_extension": ".py",
   "mimetype": "text/x-python",
   "name": "python",
   "nbconvert_exporter": "python",
   "pygments_lexer": "ipython3",
   "version": "3.12.10"
  }
 },
 "nbformat": 4,
 "nbformat_minor": 5
}
