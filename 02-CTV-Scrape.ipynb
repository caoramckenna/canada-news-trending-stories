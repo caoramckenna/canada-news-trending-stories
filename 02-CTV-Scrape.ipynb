{
 "cells": [
  {
   "cell_type": "code",
   "execution_count": 28,
   "id": "a9fff595-b424-4d91-8e7f-93cec64d94f7",
   "metadata": {},
   "outputs": [],
   "source": [
    "# Project two part 1\n",
    "\n",
    "# Scrape the content of CTV's trending section and save it as a CSV.\n",
    "\n",
    "# We want: titles, subhead, article URL, byline, article type.\n",
    "\n",
    "# Bonus, if you want to get fancy:\n",
    "\n",
    "#     Make the CSV file auto-updating. Use this tutorial (https://www.youtube.com/watch?v=QNKxzkNpsko) (https://jonathansoma.com/everything/git/auto-updating-scaper-viz/) \n"
   ]
  },
  {
   "cell_type": "code",
   "execution_count": 29,
   "id": "e22aedaa-57f7-413a-b261-c13dcfe7110e",
   "metadata": {},
   "outputs": [],
   "source": [
    "#Columns: title, subhead, article URL, whether it's premium or not, byline, article type, image URL."
   ]
  },
  {
   "cell_type": "code",
   "execution_count": 60,
   "id": "30cff831-7e5d-4e35-8312-5f35ab956930",
   "metadata": {},
   "outputs": [],
   "source": [
    "import os\n",
    "import random\n",
    "import time\n",
    "\n",
    "from playwright.async_api import async_playwright, expect"
   ]
  },
  {
   "cell_type": "code",
   "execution_count": 61,
   "id": "83710963-6fcf-462c-b213-f458b4d614dc",
   "metadata": {},
   "outputs": [],
   "source": [
    "async def open_browser(headless=False):\n",
    "    \"\"\"\n",
    "    Starts the automated browser and opens a new window\n",
    "    \"\"\"\n",
    "    # Start playwright\n",
    "    playwright = await async_playwright().start()\n",
    "\n",
    "    # Assign a random user agent (optional, shown below)\n",
    "    user_agent = \"Mozilla/5.0 (Windows NT 10.0; Win64; x64) AppleWebKit/537.36 (KHTML, like Gecko) Chrome/115.0.0.0 Safari/537.36\"\n",
    "\n",
    "    # Open firefox browser, can use chromium or webkit\n",
    "    browser = await playwright.firefox.launch(headless=headless)\n",
    "\n",
    "    # Create a new browser context (for setting user agent, etc.)\n",
    "    context = await browser.new_context(user_agent=user_agent)\n",
    "\n",
    "    # Create a new browser window (tab)\n",
    "    page = await context.new_page()\n",
    "\n",
    "    return browser, page"
   ]
  },
  {
   "cell_type": "code",
   "execution_count": 62,
   "id": "e630b6b4-eb8f-4665-b063-0518dbd557b3",
   "metadata": {},
   "outputs": [],
   "source": [
    "url = \"https://www.ctvnews.ca/\""
   ]
  },
  {
   "cell_type": "code",
   "execution_count": 63,
   "id": "e89b5295-e6d1-459b-b57e-67079d25d407",
   "metadata": {},
   "outputs": [],
   "source": [
    "async def open_browser(headless=False):\n",
    "    playwright = await async_playwright().start()\n",
    "    user_agent = \"Mozilla/5.0 (Windows NT 10.0; Win64; x64) AppleWebKit/537.36 (KHTML, like Gecko) Chrome/115.0.0.0 Safari/537.36\"\n",
    "    browser = await playwright.firefox.launch(headless=headless)\n",
    "    context = await browser.new_context(user_agent=user_agent)\n",
    "    page = await context.new_page()\n",
    "    return browser, page"
   ]
  },
  {
   "cell_type": "code",
   "execution_count": 65,
   "id": "bac0e084-d1fd-4505-8411-7e2b034f16bd",
   "metadata": {},
   "outputs": [],
   "source": [
    "async def save_html_from_url(url, filename=\"CTV_homepage.html\"):\n",
    "    browser, page = await open_browser()\n",
    "    await page.goto(url, timeout=60000)\n",
    "\n",
    "    # Scroll down to trigger any lazy-loaded content\n",
    "    await page.evaluate(\"window.scrollTo(0, document.body.scrollHeight)\")\n",
    "    await page.wait_for_timeout(3000)\n",
    "\n",
    "    # Wait for the Top Videos section (or whatever dynamic content you're targeting)\n",
    "    await page.wait_for_selector('div[class*=\"b-standard-list-custom--content-api-collections\"]', timeout=15000)\n",
    "\n",
    "    # Now save the HTML\n",
    "    html = await page.content()\n",
    "    with open(filename, \"w\", encoding=\"utf-8\") as f:\n",
    "        f.write(html)\n",
    "\n",
    "    await browser.close()\n"
   ]
  },
  {
   "cell_type": "code",
   "execution_count": 66,
   "id": "72a9b39c-fa4b-4355-90a4-97d57fd0c8d8",
   "metadata": {},
   "outputs": [],
   "source": [
    "#save the html file for parsing\n",
    "await save_html_from_url(url)"
   ]
  },
  {
   "cell_type": "code",
   "execution_count": 67,
   "id": "42bfd4e8-ede5-4e4a-933e-058f4327bb30",
   "metadata": {},
   "outputs": [],
   "source": [
    "import requests\n",
    "from bs4 import BeautifulSoup\n",
    "import pandas as pd"
   ]
  },
  {
   "cell_type": "code",
   "execution_count": 68,
   "id": "2352bad7-2303-499c-9bb8-c7e95c534784",
   "metadata": {},
   "outputs": [],
   "source": [
    "# Load the saved HTML\n",
    "with open(\"CTV_homepage.html\", \"r\", encoding=\"utf-8\") as f:\n",
    "    html = f.read()\n",
    "\n",
    "doc = BeautifulSoup(html, \"html.parser\")"
   ]
  },
  {
   "cell_type": "code",
   "execution_count": 69,
   "id": "92638706-a878-424e-8df7-c1c9dd7e3947",
   "metadata": {},
   "outputs": [],
   "source": [
    "# Find the Top Videos heading, since it's proving elusive\n",
    "heading = doc.find(\"h2\", string=\"Top Videos\")"
   ]
  },
  {
   "cell_type": "code",
   "execution_count": 70,
   "id": "0391c0cd-86d4-4782-a7b8-2b8d72de0431",
   "metadata": {},
   "outputs": [],
   "source": [
    "# Walk up to its section container\n",
    "section = heading.find_parent(\"div\", class_=\"c-stack\")"
   ]
  },
  {
   "cell_type": "code",
   "execution_count": 71,
   "id": "f05548c7-3cfb-4385-ac14-c1d0d894c185",
   "metadata": {},
   "outputs": [],
   "source": [
    "# Get the <article> tags within this section\n",
    "articles = section.find_all(\"article\")"
   ]
  },
  {
   "cell_type": "code",
   "execution_count": 73,
   "id": "d0a43795-09ef-42d5-be05-f0eee49bb32d",
   "metadata": {},
   "outputs": [
    {
     "name": "stdout",
     "output_type": "stream",
     "text": [
      "Found 8 top videos.\n"
     ]
    }
   ],
   "source": [
    "# check work there should be eight videos, nine would also make sense\n",
    "print(f\"Found {len(articles)} top videos.\")"
   ]
  },
  {
   "cell_type": "code",
   "execution_count": 76,
   "id": "e6b142ea-7d6d-4567-84f0-d5fdb3684e67",
   "metadata": {},
   "outputs": [
    {
     "name": "stdout",
     "output_type": "stream",
     "text": [
      "Rank: 1\n",
      "Title: ‘The world needs what Canada has’: Ford on new energy deal with Alberta, Saskatchewan\n",
      "URL: https://www.ctvnews.ca//toronto/video/2025/07/22/the-world-needs-what-canada-has-ford-on-new-energy-deal-with-alberta-saskatchewan/\n",
      "---\n",
      "Rank: 2\n",
      "Title: Canadian families spent more on taxes in 2024 than food, housing, and clothing combined\n",
      "URL: https://www.ctvnews.ca//video/2025/07/22/new-report-finds-taxes-remain-the-biggest-expense-for-canadian-families/\n",
      "---\n",
      "Rank: 3\n",
      "Title: 9-year-old missing Montreal girl found dead, father charged with murder\n",
      "URL: https://www.ctvnews.ca//video/2025/07/21/ctv-national-news-montreal-father-charged-in-death-of-9-year-old-girl/\n",
      "---\n",
      "Rank: 4\n",
      "Title: Police break driver’s window, punch him while dragging him out of car for resisting arrest\n",
      "URL: https://www.ctvnews.ca//video/2025/07/22/police-break-drivers-window-punch-him-while-dragging-him-out-of-car-for-resisting-arrest/\n",
      "---\n",
      "Rank: 5\n",
      "Title: Tesla exiting ferry falls into water with driver inside\n",
      "URL: https://www.ctvnews.ca//video/2025/07/21/ctv-national-news-tesla-exiting-ferry-falls-into-water-with-driver-inside/\n",
      "---\n",
      "Rank: 6\n",
      "Title: Police deadlift car off of motorcyclist pinned underneath after crash\n",
      "URL: https://www.ctvnews.ca//video/2025/07/22/police-lift-car-to-rescue-motorcyclist-pinned-underneath/\n",
      "---\n",
      "Rank: 7\n",
      "Title: Customers wait hours in line to check out Elon Musk’s new Tesla Diner\n",
      "URL: https://www.ctvnews.ca//video/2025/07/22/customers-wait-hours-in-line-to-check-out-elon-musks-new-tesla-diner/\n",
      "---\n",
      "Rank: 8\n",
      "Title: Six-year-old girl calls 911 and saves her mother’s life after dog attack\n",
      "URL: https://www.ctvnews.ca//video/2025/07/22/six-year-old-girl-calls-911-and-saves-her-mothers-life-after-dog-attack/\n",
      "---\n"
     ]
    }
   ],
   "source": [
    "# Loop through the eight elements in the list, pulling the information I want \n",
    "for rank, article in enumerate(articles, start=1):\n",
    "    title_tag = article.find(\"h3\")\n",
    "    link_tag = title_tag.find(\"a\") if title_tag else None\n",
    "\n",
    "    title = link_tag.get_text(strip=True) if link_tag else 'No title'\n",
    "    href = link_tag.get(\"href\", \"\") if link_tag else \"\"\n",
    "    full_url = url + href if href.startswith(\"/\") else href\n",
    "\n",
    "    print(\"Rank:\", rank)\n",
    "    print(\"Title:\", title)\n",
    "    print(\"URL:\", full_url)\n",
    "    print(\"---\")"
   ]
  },
  {
   "cell_type": "code",
   "execution_count": 78,
   "id": "7658c6df-88e4-4629-87fc-c842c3a38bab",
   "metadata": {},
   "outputs": [],
   "source": [
    "#Loop and extract data\n",
    "rows = []\n",
    "for rank, article in enumerate(articles, start=1):\n",
    "    row = {}\n",
    "    # Rank\n",
    "    row[\"rank\"] = rank\n",
    "    \n",
    "    # Title\n",
    "    title_tag = article.find(\"h3\")\n",
    "    row[\"Article title\"] = title_tag.get_text(strip=True) if title_tag else \"No title\"\n",
    "    \n",
    "    # URL \n",
    "    link_tag = title_tag.find(\"a\") if title_tag else None\n",
    "    href = link_tag.get(\"href\", \"\") if link_tag else \"\"\n",
    "    row[\"url\"] = href if href.startswith(\"http\") else f\"https://www.ctvnews.ca{href}\" if href else \"No URL\"\n",
    "\n",
    "    \n",
    "\n",
    "    rows.append(row)"
   ]
  },
  {
   "cell_type": "code",
   "execution_count": 79,
   "id": "a1bee8a9-1795-4448-b594-f97d72b48d2f",
   "metadata": {},
   "outputs": [],
   "source": [
    "import pandas as pd"
   ]
  },
  {
   "cell_type": "code",
   "execution_count": 80,
   "id": "50d7d896-ea7f-4897-af4d-95af311aec13",
   "metadata": {},
   "outputs": [],
   "source": [
    "df = pd.json_normalize(rows)"
   ]
  },
  {
   "cell_type": "code",
   "execution_count": 81,
   "id": "75ef3117-f790-49ae-bd4a-ce17354de065",
   "metadata": {},
   "outputs": [
    {
     "data": {
      "text/html": [
       "<div>\n",
       "<style scoped>\n",
       "    .dataframe tbody tr th:only-of-type {\n",
       "        vertical-align: middle;\n",
       "    }\n",
       "\n",
       "    .dataframe tbody tr th {\n",
       "        vertical-align: top;\n",
       "    }\n",
       "\n",
       "    .dataframe thead th {\n",
       "        text-align: right;\n",
       "    }\n",
       "</style>\n",
       "<table border=\"1\" class=\"dataframe\">\n",
       "  <thead>\n",
       "    <tr style=\"text-align: right;\">\n",
       "      <th></th>\n",
       "      <th>rank</th>\n",
       "      <th>Article title</th>\n",
       "      <th>url</th>\n",
       "    </tr>\n",
       "  </thead>\n",
       "  <tbody>\n",
       "    <tr>\n",
       "      <th>0</th>\n",
       "      <td>1</td>\n",
       "      <td>‘The world needs what Canada has’: Ford on new...</td>\n",
       "      <td>https://www.ctvnews.ca/toronto/video/2025/07/2...</td>\n",
       "    </tr>\n",
       "    <tr>\n",
       "      <th>1</th>\n",
       "      <td>2</td>\n",
       "      <td>Canadian families spent more on taxes in 2024 ...</td>\n",
       "      <td>https://www.ctvnews.ca/video/2025/07/22/new-re...</td>\n",
       "    </tr>\n",
       "    <tr>\n",
       "      <th>2</th>\n",
       "      <td>3</td>\n",
       "      <td>9-year-old missing Montreal girl found dead, f...</td>\n",
       "      <td>https://www.ctvnews.ca/video/2025/07/21/ctv-na...</td>\n",
       "    </tr>\n",
       "    <tr>\n",
       "      <th>3</th>\n",
       "      <td>4</td>\n",
       "      <td>Police break driver’s window, punch him while ...</td>\n",
       "      <td>https://www.ctvnews.ca/video/2025/07/22/police...</td>\n",
       "    </tr>\n",
       "    <tr>\n",
       "      <th>4</th>\n",
       "      <td>5</td>\n",
       "      <td>Tesla exiting ferry falls into water with driv...</td>\n",
       "      <td>https://www.ctvnews.ca/video/2025/07/21/ctv-na...</td>\n",
       "    </tr>\n",
       "    <tr>\n",
       "      <th>5</th>\n",
       "      <td>6</td>\n",
       "      <td>Police deadlift car off of motorcyclist pinned...</td>\n",
       "      <td>https://www.ctvnews.ca/video/2025/07/22/police...</td>\n",
       "    </tr>\n",
       "    <tr>\n",
       "      <th>6</th>\n",
       "      <td>7</td>\n",
       "      <td>Customers wait hours in line to check out Elon...</td>\n",
       "      <td>https://www.ctvnews.ca/video/2025/07/22/custom...</td>\n",
       "    </tr>\n",
       "    <tr>\n",
       "      <th>7</th>\n",
       "      <td>8</td>\n",
       "      <td>Six-year-old girl calls 911 and saves her moth...</td>\n",
       "      <td>https://www.ctvnews.ca/video/2025/07/22/six-ye...</td>\n",
       "    </tr>\n",
       "  </tbody>\n",
       "</table>\n",
       "</div>"
      ],
      "text/plain": [
       "   rank                                      Article title  \\\n",
       "0     1  ‘The world needs what Canada has’: Ford on new...   \n",
       "1     2  Canadian families spent more on taxes in 2024 ...   \n",
       "2     3  9-year-old missing Montreal girl found dead, f...   \n",
       "3     4  Police break driver’s window, punch him while ...   \n",
       "4     5  Tesla exiting ferry falls into water with driv...   \n",
       "5     6  Police deadlift car off of motorcyclist pinned...   \n",
       "6     7  Customers wait hours in line to check out Elon...   \n",
       "7     8  Six-year-old girl calls 911 and saves her moth...   \n",
       "\n",
       "                                                 url  \n",
       "0  https://www.ctvnews.ca/toronto/video/2025/07/2...  \n",
       "1  https://www.ctvnews.ca/video/2025/07/22/new-re...  \n",
       "2  https://www.ctvnews.ca/video/2025/07/21/ctv-na...  \n",
       "3  https://www.ctvnews.ca/video/2025/07/22/police...  \n",
       "4  https://www.ctvnews.ca/video/2025/07/21/ctv-na...  \n",
       "5  https://www.ctvnews.ca/video/2025/07/22/police...  \n",
       "6  https://www.ctvnews.ca/video/2025/07/22/custom...  \n",
       "7  https://www.ctvnews.ca/video/2025/07/22/six-ye...  "
      ]
     },
     "execution_count": 81,
     "metadata": {},
     "output_type": "execute_result"
    }
   ],
   "source": [
    "df.head(10)"
   ]
  },
  {
   "cell_type": "code",
   "execution_count": 82,
   "id": "7d6de629-34f1-42ff-bbb8-24bdb3f54b1d",
   "metadata": {},
   "outputs": [
    {
     "data": {
      "text/plain": [
       "0    https://www.ctvnews.ca/toronto/video/2025/07/2...\n",
       "1    https://www.ctvnews.ca/video/2025/07/22/new-re...\n",
       "2    https://www.ctvnews.ca/video/2025/07/21/ctv-na...\n",
       "3    https://www.ctvnews.ca/video/2025/07/22/police...\n",
       "4    https://www.ctvnews.ca/video/2025/07/21/ctv-na...\n",
       "5    https://www.ctvnews.ca/video/2025/07/22/police...\n",
       "6    https://www.ctvnews.ca/video/2025/07/22/custom...\n",
       "7    https://www.ctvnews.ca/video/2025/07/22/six-ye...\n",
       "Name: url, dtype: object"
      ]
     },
     "execution_count": 82,
     "metadata": {},
     "output_type": "execute_result"
    }
   ],
   "source": [
    "df['url']\n"
   ]
  },
  {
   "cell_type": "code",
   "execution_count": 83,
   "id": "d921bc20-cb17-4e82-9a3f-fbcdff54157f",
   "metadata": {},
   "outputs": [],
   "source": [
    "#adding column with the href hyperlinked url to the title, for datawrapper\n",
    "df[\"title_with_link\"] = df.apply(lambda row: f'<a href=\"{row[\"url\"]}\">{row[\"Article title\"]}</a>', axis=1)"
   ]
  },
  {
   "cell_type": "code",
   "execution_count": 84,
   "id": "ea0a5f26-56f1-4d3c-8acd-e6c3c305db02",
   "metadata": {},
   "outputs": [],
   "source": [
    "df.to_csv(\"CTVScrape.csv\", index=False)"
   ]
  },
  {
   "cell_type": "code",
   "execution_count": null,
   "id": "e0d7e682-5de0-4418-886e-3383650d959a",
   "metadata": {},
   "outputs": [],
   "source": []
  }
 ],
 "metadata": {
  "kernelspec": {
   "display_name": "Python 3 (ipykernel)",
   "language": "python",
   "name": "python3"
  },
  "language_info": {
   "codemirror_mode": {
    "name": "ipython",
    "version": 3
   },
   "file_extension": ".py",
   "mimetype": "text/x-python",
   "name": "python",
   "nbconvert_exporter": "python",
   "pygments_lexer": "ipython3",
   "version": "3.12.10"
  }
 },
 "nbformat": 4,
 "nbformat_minor": 5
}
