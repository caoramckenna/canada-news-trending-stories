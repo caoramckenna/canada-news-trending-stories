{
 "cells": [
  {
   "cell_type": "code",
   "execution_count": null,
   "id": "a9fff595-b424-4d91-8e7f-93cec64d94f7",
   "metadata": {},
   "outputs": [],
   "source": [
    "# Project two part 1\n",
    "\n",
    "# Scrape the content of Global News''s trending section and save it as a CSV.\n",
    "\n",
    "# We want: titles, subhead, article URL, byline, article type, image URL.\n",
    "\n",
    "# Bonus, if you want to get fancy:\n",
    "\n",
    "#     Make the CSV file auto-updating. Use this tutorial (https://www.youtube.com/watch?v=QNKxzkNpsko) (https://jonathansoma.com/everything/git/auto-updating-scaper-viz/) \n"
   ]
  },
  {
   "cell_type": "code",
   "execution_count": null,
   "id": "e22aedaa-57f7-413a-b261-c13dcfe7110e",
   "metadata": {},
   "outputs": [],
   "source": [
    "#Columns: title, subhead, article URL, whether it's premium or not, byline, article type, image URL."
   ]
  },
  {
   "cell_type": "code",
   "execution_count": 39,
   "id": "da817ec6-a58b-4e0a-972c-74362067189c",
   "metadata": {},
   "outputs": [],
   "source": [
    "import requests\n",
    "from bs4 import BeautifulSoup\n",
    "import pandas as pd\n",
    "\n",
    "url = \"https://globalnews.ca/\"\n",
    "\n",
    "#for anonymnity\n",
    "headers = {\n",
    "    'User-Agent': 'Mozilla/5.0 (Windows NT 10.0; Win64; x64) AppleWebKit/537.36 (KHTML, like Gecko) Chrome/115.0 Safari/537.36'\n",
    "}\n",
    "\n",
    "response = requests.get(url, headers=headers)\n",
    "\n",
    "# Check if the request was successful\n",
    "if response.status_code == 200:\n",
    "    doc = BeautifulSoup(response.text, 'html.parser')\n",
    "    # Now you can use soup.find(), soup.find_all(), etc.\n",
    "else:\n",
    "    print(f\"Request failed with status code: {response.status_code}\")\n"
   ]
  },
  {
   "cell_type": "code",
   "execution_count": 40,
   "id": "71405af3-4350-499a-8d22-88c477324a77",
   "metadata": {},
   "outputs": [
    {
     "name": "stdout",
     "output_type": "stream",
     "text": [
      "HTML saved to GlobalNews_homepage.html\n"
     ]
    }
   ],
   "source": [
    "with open(\"GlobalNews_homepage.html\", \"w\", encoding=\"utf-8\") as f:\n",
    "    f.write(response.text)\n",
    "\n",
    "print(\"HTML saved to GlobalNews_homepage.html\")"
   ]
  },
  {
   "cell_type": "code",
   "execution_count": 44,
   "id": "ebc6e9e9-a163-4d14-8bcd-e133df65353c",
   "metadata": {},
   "outputs": [],
   "source": [
    "#Find where the articles are nested\n",
    "trending_container = doc.find(\"div\", id=\"home-trendingPosts\")"
   ]
  },
  {
   "cell_type": "code",
   "execution_count": 45,
   "id": "9cc183a7-2d12-4acf-8892-1fe64637b1d0",
   "metadata": {},
   "outputs": [
    {
     "name": "stdout",
     "output_type": "stream",
     "text": [
      "5\n"
     ]
    }
   ],
   "source": [
    "#Find all article items inside (there are 5)\n",
    "articles = trending_container.find_all(\"li\", class_=\"c-posts__item\")  # or correct tag/class for each article\n",
    "print(len(articles))\n"
   ]
  },
  {
   "cell_type": "code",
   "execution_count": 46,
   "id": "3a96cb3b-a37c-4f9e-98df-66027408e067",
   "metadata": {
    "jupyter": {
     "source_hidden": true
    }
   },
   "outputs": [],
   "source": [
    "# # #this is the code for a sample chunk in the list of articles that I'm trying to parse \n",
    "# <li class=\"c-posts__item\" data-post-id=\"11291049\">\n",
    "# \t\t\t\t<a href=\"https://globalnews.ca/news/11291049/canadians-renewing-mortgages-payments-go-up/\" class=\"c-posts__inner\" >\n",
    "# \t\t\t\t\t<div class=\"c-posts__rank\">\n",
    "# \t\t\t\t\t\t\t<svg class=\"c-icon  c-posts__rankIcon\" focusable=\"false\">\n",
    "# \t\t<use xlink:href=\"https://globalnews.ca/wp-content/themes/shaw-globalnews/assets/dist/icons/out/symbol/svg/sprite.symbol.svg?v=cv3j60zbx#2\"></use>\n",
    "# \t</svg>\n",
    "# \t\t\t\t\t\t</div>\n",
    "\t\t\t\t\t\n",
    "# \t\t<div class=\"c-posts__media  c-imageContainer\"  >\n",
    "# \t\t\t\t\t\t<img class=\"c-posts__thumbnail\"\n",
    "# \t\t\t\tdata-src=https://globalnews.ca/wp-content/uploads/2025/07/Bank-of-Canada-mortgages.jpg?quality=65&#038;strip=all&#038;w=720\t\t\t\tdata-width=720 data-height=489 data-ratio=0.67\t\t\t\t\t\t\t\t\tloading=\"lazy\"\n",
    "# \t\t\t\t\t\t\t\twidth=\"720\" height=\"489\" alt=\"\" \n",
    "# \t\t\t\t\t\t\t\t\t\t\t\tsrcset='' sizes=''\n",
    "# \t\t\t\t\t\t\t\tdata-srcset=\"https://globalnews.ca/wp-content/uploads/2025/07/Bank-of-Canada-mortgages.jpg?quality=65&#038;strip=all&#038;w=336 336w,https://globalnews.ca/wp-content/uploads/2025/07/Bank-of-Canada-mortgages.jpg?quality=65&#038;strip=all&#038;w=560 560w,https://globalnews.ca/wp-content/uploads/2025/07/Bank-of-Canada-mortgages.jpg?quality=65&#038;strip=all&#038;w=720 720w,\"\t\t\t\tdata-sizes=\"auto\"\t\t\t\t\t\t/>\n",
    "# \t\t\t\t\t\t\t\t\t\t\t\t\t</div>\n",
    "# \t\t\t\t\t\t\t<div class=\"c-posts__details\">\n",
    "# \t\t\t\t\t\t\t\t\t<div class=\"c-posts__headline \">\n",
    "# \t\t\t\t\t<span class=\"c-posts__headlineText\" title=\"60% of Canadians renewing mortgages could see payments go up by 2026\" data-title>60% of Canadians renewing mortgages could see payments go up by 2026</span>\n",
    "# \t\t\t</div>\n",
    "# \t\t\t\t\t\t\t\t\t\t\t\t\t<div class=\"c-posts__about\">\n",
    "# \t\t\t\t\t\t\t<span class=\"c-posts__info c-posts__info--highlight\">20,570</span>\n",
    "# \t\t\t\t\t\t\t<span class=\"c-posts__info\">Read</span>\n",
    "# \t\t\t\t\t\t</div>\n",
    "\t\t\t\t\t\t\t\t\t\t\t\t\n",
    "# \t\t\t\t\t\t\t\t\t\t\t</div>\n",
    "# \t\t\t\t</a>\n",
    "# \t\t\t</li>\n",
    "# \t\t\t\t\t\t\t\t<li class=\"c-posts__item\" data-post-id=\"11291824\">\n",
    "# \t\t\t\t<a href=\"https://globalnews.ca/news/11291824/suspect-charged-hijacking-security-incident-yvr/\" class=\"c-posts__inner\" >\n",
    "# \t\t\t\t\t<div class=\"c-posts__rank\">\n",
    "# \t\t\t\t\t\t\t<svg class=\"c-icon  c-posts__rankIcon\" focusable=\"false\">\n",
    "# \t\t<use xlink:href=\"https://globalnews.ca/wp-content/themes/shaw-globalnews/assets/dist/icons/out/symbol/svg/sprite.symbol.svg?v=cv3j60zbx#3\"></use>\n",
    "# \t</svg>\n",
    "# \t\t\t\t\t\t</div>\n",
    "\t\t\t\t\t\n",
    "# \t\t<div class=\"c-posts__media  c-imageContainer\"  >\n",
    "# \t\t\t\t\t\t<img class=\"c-posts__thumbnail\"\n",
    "# \t\t\t\tdata-src=https://globalnews.ca/wp-content/uploads/2025/07/cassim-2.jpg?quality=65&#038;strip=all&#038;w=345\t\t\t\tdata-width=345 data-height=357 data-ratio=0.67\t\t\t\t\t\t\t\t\tloading=\"lazy\"\n",
    "# \t\t\t\t\t\t\t\twidth=\"345\" height=\"357\" alt=\"\" \n",
    "# \t\t\t\t\t\t\t\t\t\t\t\tsrcset='' sizes=''\n",
    "# \t\t\t\t\t\t\t\tdata-srcset=\"https://globalnews.ca/wp-content/uploads/2025/07/cassim-2.jpg?quality=65&#038;strip=all&#038;w=336 336w,https://globalnews.ca/wp-content/uploads/2025/07/cassim-2.jpg?quality=65&#038;strip=all&#038;w=345 345w,https://globalnews.ca/wp-content/uploads/2025/07/cassim-2.jpg?quality=65&#038;strip=all&#038;w=345 345w,\"\t\t\t\tdata-sizes=\"auto\"\t\t\t\t\t\t/>\n",
    "# \t\t\t\t\t\t\t\t\t\t\t\t\t</div>\n",
    "# \t\t\t\t\t\t\t<div class=\"c-posts__details\">\n",
    "# \t\t\t\t\t\t\t\t\t<div class=\"c-posts__headline \">\n",
    "# \t\t\t\t\t<span class=\"c-posts__headlineText\" title=\"Suspect charged with hijacking in connection with security incident at YVR\" data-title>Suspect charged with hijacking in connection with security incident at YVR</span>\n",
    "# \t\t\t</div>\n",
    "# \t\t\t\t\t\t\t\t\t\t\t\t\t<div class=\"c-posts__about\">\n",
    "# \t\t\t\t\t\t\t<span class=\"c-posts__info c-posts__info--highlight\">19,137</span>\n",
    "# \t\t\t\t\t\t\t<span class=\"c-posts__info\">Read</span>\n",
    "# \t\t\t\t\t\t</div>\n",
    "\t\t\t\t\t\t\t\t\t\t\t\t\n",
    "# \t\t\t\t\t\t\t\t\t\t\t</div>\n",
    "# \t\t\t\t</a>\n",
    "# \t\t\t</li>"
   ]
  },
  {
   "cell_type": "code",
   "execution_count": 58,
   "id": "cce8234e-43e9-48c2-a717-d8f54a210c51",
   "metadata": {},
   "outputs": [
    {
     "name": "stdout",
     "output_type": "stream",
     "text": [
      "Rank: 1\n",
      "Title: Canada’s income gap reaches record high, Statistics Canada finds\n",
      "URL: https://globalnews.ca/news/11290502/canadas-income-gap-reaches-record-high-statistics-canada-finds/\n",
      "---\n",
      "Rank: 2\n",
      "Title: 60% of Canadians renewing mortgages could see payments go up by 2026\n",
      "URL: https://globalnews.ca/news/11291049/canadians-renewing-mortgages-payments-go-up/\n",
      "---\n",
      "Rank: 3\n",
      "Title: Suspect charged with hijacking in connection with security incident at YVR\n",
      "URL: https://globalnews.ca/news/11291824/suspect-charged-hijacking-security-incident-yvr/\n",
      "---\n",
      "Rank: 4\n",
      "Title: N.S. missing kids: Pink blanket belonging to Lilly being examined, RCMP say\n",
      "URL: https://globalnews.ca/news/11290454/ns-missing-kids-july-16-update-unsolved/\n",
      "---\n",
      "Rank: 5\n",
      "Title: Emma Watson banned from driving after being caught speeding\n",
      "URL: https://globalnews.ca/news/11290394/emma-watson-driving-ban-speeding/\n",
      "---\n"
     ]
    }
   ],
   "source": [
    "#though this page has numbered ranks, they are under shadowDOM, so we will use enumerate here again\n",
    "\n",
    "# Loop through the eight elements in the list, pulling the information I want \n",
    "for rank, article in enumerate(articles, start=1):\n",
    "    title_tag = article.find('span', class_='c-posts__headlineText')\n",
    "    link_tag = article.find('a')\n",
    "\n",
    "\n",
    "    title = title_tag.get_text(strip=True) if title_tag else 'No title'\n",
    "    href = link_tag.get('href') if link_tag else ''\n",
    "    full_url = href if href.startswith('http') else 'https://globalnews.ca' + href\n",
    "\n",
    "    print(\"Rank:\", rank)\n",
    "    print(\"Title:\", title)\n",
    "    print(\"URL:\", full_url)\n",
    "    print(\"---\")\n",
    "\n"
   ]
  },
  {
   "cell_type": "code",
   "execution_count": 64,
   "id": "57c77619-9522-412b-880f-8ee9c5151999",
   "metadata": {},
   "outputs": [
    {
     "name": "stdout",
     "output_type": "stream",
     "text": [
      "Total articles scraped: 5\n"
     ]
    }
   ],
   "source": [
    "rows = []  # List to store all article dicts\n",
    "\n",
    "for rank, article in enumerate(articles, start=1):\n",
    "    row = {}\n",
    "    #Rank (Though this page has numbered ranks, they are under shadowDOM, so we will use enumerate here again)\n",
    "    row['Rank'] = rank \n",
    "    \n",
    "    # Title (required)\n",
    "    title_tag = article.find('span', class_='c-posts__headlineText')\n",
    "    row['Article title'] = title_tag.get_text(strip=True) if title_tag else \"No title found\"\n",
    "\n",
    "    # URL (required)\n",
    "    link_tag = article.find('a')\n",
    "    href = link_tag.get('href') if link_tag else ''\n",
    "    full_url = href if href.startswith('http') else 'https://globalnews.ca' + href\n",
    "    row['url'] = full_url\n",
    "\n",
    "    rows.append(row)\n",
    "\n",
    "print(f\"Total articles scraped: {len(rows)}\")\n"
   ]
  },
  {
   "cell_type": "code",
   "execution_count": 65,
   "id": "06b21906-d98c-4301-aa8a-f51f2f0ba728",
   "metadata": {},
   "outputs": [],
   "source": [
    "df = pd.json_normalize(rows)"
   ]
  },
  {
   "cell_type": "code",
   "execution_count": 66,
   "id": "75ef3117-f790-49ae-bd4a-ce17354de065",
   "metadata": {},
   "outputs": [
    {
     "data": {
      "text/html": [
       "<div>\n",
       "<style scoped>\n",
       "    .dataframe tbody tr th:only-of-type {\n",
       "        vertical-align: middle;\n",
       "    }\n",
       "\n",
       "    .dataframe tbody tr th {\n",
       "        vertical-align: top;\n",
       "    }\n",
       "\n",
       "    .dataframe thead th {\n",
       "        text-align: right;\n",
       "    }\n",
       "</style>\n",
       "<table border=\"1\" class=\"dataframe\">\n",
       "  <thead>\n",
       "    <tr style=\"text-align: right;\">\n",
       "      <th></th>\n",
       "      <th>Rank</th>\n",
       "      <th>Article title</th>\n",
       "      <th>url</th>\n",
       "    </tr>\n",
       "  </thead>\n",
       "  <tbody>\n",
       "    <tr>\n",
       "      <th>0</th>\n",
       "      <td>1</td>\n",
       "      <td>Canada’s income gap reaches record high, Stati...</td>\n",
       "      <td>https://globalnews.ca/news/11290502/canadas-in...</td>\n",
       "    </tr>\n",
       "    <tr>\n",
       "      <th>1</th>\n",
       "      <td>2</td>\n",
       "      <td>60% of Canadians renewing mortgages could see ...</td>\n",
       "      <td>https://globalnews.ca/news/11291049/canadians-...</td>\n",
       "    </tr>\n",
       "    <tr>\n",
       "      <th>2</th>\n",
       "      <td>3</td>\n",
       "      <td>Suspect charged with hijacking in connection w...</td>\n",
       "      <td>https://globalnews.ca/news/11291824/suspect-ch...</td>\n",
       "    </tr>\n",
       "    <tr>\n",
       "      <th>3</th>\n",
       "      <td>4</td>\n",
       "      <td>N.S. missing kids: Pink blanket belonging to L...</td>\n",
       "      <td>https://globalnews.ca/news/11290454/ns-missing...</td>\n",
       "    </tr>\n",
       "    <tr>\n",
       "      <th>4</th>\n",
       "      <td>5</td>\n",
       "      <td>Emma Watson banned from driving after being ca...</td>\n",
       "      <td>https://globalnews.ca/news/11290394/emma-watso...</td>\n",
       "    </tr>\n",
       "  </tbody>\n",
       "</table>\n",
       "</div>"
      ],
      "text/plain": [
       "   Rank                                      Article title  \\\n",
       "0     1  Canada’s income gap reaches record high, Stati...   \n",
       "1     2  60% of Canadians renewing mortgages could see ...   \n",
       "2     3  Suspect charged with hijacking in connection w...   \n",
       "3     4  N.S. missing kids: Pink blanket belonging to L...   \n",
       "4     5  Emma Watson banned from driving after being ca...   \n",
       "\n",
       "                                                 url  \n",
       "0  https://globalnews.ca/news/11290502/canadas-in...  \n",
       "1  https://globalnews.ca/news/11291049/canadians-...  \n",
       "2  https://globalnews.ca/news/11291824/suspect-ch...  \n",
       "3  https://globalnews.ca/news/11290454/ns-missing...  \n",
       "4  https://globalnews.ca/news/11290394/emma-watso...  "
      ]
     },
     "execution_count": 66,
     "metadata": {},
     "output_type": "execute_result"
    }
   ],
   "source": [
    "df.head(10)"
   ]
  },
  {
   "cell_type": "code",
   "execution_count": 67,
   "id": "ea0a5f26-56f1-4d3c-8acd-e6c3c305db02",
   "metadata": {},
   "outputs": [],
   "source": [
    "df.to_csv(\"GlobalNewsScrape.csv\")"
   ]
  },
  {
   "cell_type": "code",
   "execution_count": null,
   "id": "e0d7e682-5de0-4418-886e-3383650d959a",
   "metadata": {},
   "outputs": [],
   "source": []
  }
 ],
 "metadata": {
  "kernelspec": {
   "display_name": "Python 3 (ipykernel)",
   "language": "python",
   "name": "python3"
  },
  "language_info": {
   "codemirror_mode": {
    "name": "ipython",
    "version": 3
   },
   "file_extension": ".py",
   "mimetype": "text/x-python",
   "name": "python",
   "nbconvert_exporter": "python",
   "pygments_lexer": "ipython3",
   "version": "3.12.10"
  }
 },
 "nbformat": 4,
 "nbformat_minor": 5
}
