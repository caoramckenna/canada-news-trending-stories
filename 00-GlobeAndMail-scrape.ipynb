{
 "cells": [
  {
   "cell_type": "code",
   "execution_count": 46,
   "id": "a9fff595-b424-4d91-8e7f-93cec64d94f7",
   "metadata": {},
   "outputs": [],
   "source": [
    "Project two part 1\n",
    "\n",
    "# Scrape the content of The Globe and Mail's trending section and save it as a CSV.\n",
    "\n",
    "# We want: titles, subhead, article URL, byline, article type, image URL.\n",
    "\n",
    "# Bonus, if you want to get fancy:\n",
    "\n",
    "#     Make the CSV file auto-updating. Use this tutorial (https://www.youtube.com/watch?v=QNKxzkNpsko) (https://jonathansoma.com/everything/git/auto-updating-scaper-viz/) \n"
   ]
  },
  {
   "cell_type": "code",
   "execution_count": 47,
   "id": "e22aedaa-57f7-413a-b261-c13dcfe7110e",
   "metadata": {},
   "outputs": [],
   "source": [
    "#Columns: title, subhead, article URL, whether it's premium or not, byline, article type, image URL."
   ]
  },
  {
   "cell_type": "code",
   "execution_count": 1,
   "id": "da817ec6-a58b-4e0a-972c-74362067189c",
   "metadata": {},
   "outputs": [],
   "source": [
    "import requests\n",
    "from bs4 import BeautifulSoup\n",
    "import pandas as pd\n",
    "\n",
    "url = \"https://www.theglobeandmail.com\"\n",
    "\n",
    "#for anonymnity\n",
    "headers = {\n",
    "    'User-Agent': 'Mozilla/5.0 (Windows NT 10.0; Win64; x64) AppleWebKit/537.36 (KHTML, like Gecko) Chrome/115.0 Safari/537.36'\n",
    "}\n",
    "\n",
    "response = requests.get(url, headers=headers)\n",
    "\n",
    "# Check if the request was successful\n",
    "if response.status_code == 200:\n",
    "    doc = BeautifulSoup(response.text, 'html.parser')\n",
    "    # Now you can use soup.find(), soup.find_all(), etc.\n",
    "else:\n",
    "    print(f\"Request failed with status code: {response.status_code}\")\n"
   ]
  },
  {
   "cell_type": "code",
   "execution_count": 2,
   "id": "f8f46dfe-4f00-46ae-a7aa-606d2e8170e5",
   "metadata": {
    "scrolled": true
   },
   "outputs": [
    {
     "name": "stdout",
     "output_type": "stream",
     "text": [
      "There are 8 articles in the trending box\n"
     ]
    }
   ],
   "source": [
    "#find all the article in the trending section (there are 8) \n",
    "article = doc.find_all('a', class_='c-card__grid c-card__link')\n",
    "print(f\"There are {len(article)} articles in the trending box\")"
   ]
  },
  {
   "cell_type": "code",
   "execution_count": 3,
   "id": "8e665198-5c8e-47d7-9c66-7dd4c13a2ced",
   "metadata": {},
   "outputs": [
    {
     "name": "stdout",
     "output_type": "stream",
     "text": [
      "HTML saved to globe_homepage.html\n"
     ]
    }
   ],
   "source": [
    "\n",
    "with open(\"globe_homepage.html\", \"w\", encoding=\"utf-8\") as f:\n",
    "    f.write(response.text)\n",
    "\n",
    "print(\"HTML saved to globe_homepage.html\")"
   ]
  },
  {
   "cell_type": "code",
   "execution_count": null,
   "id": "3a96cb3b-a37c-4f9e-98df-66027408e067",
   "metadata": {},
   "outputs": [],
   "source": [
    "# #this is the code for a sample chunk in the list of articles that I'm trying to parse \n",
    "# <div class=\"c-card\"><a\n",
    "#                   href=\"/business/commentary/article-what-was-mark-carney-thinking-when-he-walked-back-the-digital-services/\"\n",
    "#                   class=\"c-card__grid c-card__link\"\n",
    "#                   data-sophi-label=\"What was Mark Carney thinking when he walked back the digital services tax?\"\n",
    "#                   data-content-id=\"D6G7CUTGPZHD3FTL7QTQSU6LHI\" data-lt-pos=\"sec:homepage:trending:recommend-tgam\">\n",
    "#                   <div class=\"c-card__content\"><span\n",
    "#                       class=\"StoryLabel__StyledStoryLabel-sc-19mm1gg-0 jZNZzC tgam-label tgam-label--story-default-light text-gml-3\"\n",
    "#                       mode=\"light\">Opinion</span>\n",
    "#                     <div class=\"c-card__hed\">\n",
    "#                       <h3 class=\"c-card__hed-text text-pb-9\">What was Mark Carney thinking when he walked back the\n",
    "#                         digital services tax?</h3>\n",
    "#                     </div>\n",
    "#                     <div class=\"c-card__meta\"><span class=\"c-card__meta__authors\"><span\n",
    "#                           class=\"c-card__author text-gmr-5\">Taylor C. Noakes</span></span></div>\n",
    "#                   </div>\n",
    "#                 </a></div>\""
   ]
  },
  {
   "cell_type": "code",
   "execution_count": 52,
   "id": "34b803ae-4642-464a-bdd4-91f838549392",
   "metadata": {},
   "outputs": [
    {
     "name": "stdout",
     "output_type": "stream",
     "text": [
      "Rank: 1\n",
      "Title: In rural B.C., frequent ER closings show how ‘fragile’ the health care system has become\n",
      "Author: No author\n",
      "Label: No label\n",
      "URL: https://www.theglobeandmail.com/canada/article-unplanned-closing-emergency-room-british-columbia-health-care/\n",
      "---\n",
      "Rank: 2\n",
      "Title: What was Mark Carney thinking when he walked back the digital services tax?\n",
      "Author: Taylor C. Noakes\n",
      "Label: Opinion\n",
      "URL: https://www.theglobeandmail.com/business/commentary/article-what-was-mark-carney-thinking-when-he-walked-back-the-digital-services/\n",
      "---\n",
      "Rank: 3\n",
      "Title: Syrian government and leaders of Druze minority announce new ceasefire after Israeli air strikes\n",
      "Author: No author\n",
      "Label: No label\n",
      "URL: https://www.theglobeandmail.com/world/article-israel-strikes-in-damascus-amid-ongoing-clashes-between-government/\n",
      "---\n",
      "Rank: 4\n",
      "Title: ‘The door is now firmly slammed shut on a July BoC rate cut’: Markets and economists react to inflation data\n",
      "Author: No author\n",
      "Label: No label\n",
      "URL: https://www.theglobeandmail.com/investing/markets/inside-the-market/article-market-implied-odds-of-july-30-boc-rate-cut-dwindle-further-following/\n",
      "---\n",
      "Rank: 5\n",
      "Title: With Epstein conspiracy theories, Trump faces a crisis of his own making\n",
      "Author: No author\n",
      "Label: No label\n",
      "URL: https://www.theglobeandmail.com/world/article-jeffrey-epstein-donald-trump-conspiracy-theories/\n",
      "---\n",
      "Rank: 6\n",
      "Title: RCMP arrest alleged hijacker at Vancouver airport after airspace shut down\n",
      "Author: No author\n",
      "Label: No label\n",
      "URL: https://www.theglobeandmail.com/canada/article-vancouver-airport-airspace-security-incident/\n",
      "---\n",
      "Rank: 7\n",
      "Title: Giller Prize says it will be forced to cease operations without federal funding\n",
      "Author: No author\n",
      "Label: No label\n",
      "URL: https://www.theglobeandmail.com/arts/books/article-giller-prize-federal-funding/\n",
      "---\n",
      "Rank: 8\n",
      "Title: How Australia fell in love with supersized roadside attractions\n",
      "Author: No author\n",
      "Label: No label\n",
      "URL: https://www.theglobeandmail.com/world/article-australia-big-things-roadside-attractions/\n",
      "---\n"
     ]
    }
   ],
   "source": [
    "# Loop through the eight elements in the list, pulling the information I want \n",
    "for rank, link in enumerate(article, start=1):\n",
    "    title_tag = link.find('h3', class_='c-card__hed-text')\n",
    "    author_tag = link.find('span', class_='c-card__author')\n",
    "    label_tag = link.find('span', class_='tgam-label')\n",
    "\n",
    "    title = title_tag.get_text(strip=True) if title_tag else 'No title'\n",
    "    author = author_tag.get_text(strip=True) if author_tag else 'No author'\n",
    "    label = label_tag.get_text(strip=True) if label_tag else 'No label'\n",
    "    href = link.get('href', '')\n",
    "    full_url = url + href if href.startswith('/') else href\n",
    "\n",
    "    print(\"Rank:\", rank)\n",
    "    print(\"Title:\", title)\n",
    "    print(\"Author:\", author)\n",
    "    print(\"Label:\", label)\n",
    "    print(\"URL:\", full_url)\n",
    "    print(\"---\")"
   ]
  },
  {
   "cell_type": "code",
   "execution_count": 53,
   "id": "57c77619-9522-412b-880f-8ee9c5151999",
   "metadata": {},
   "outputs": [
    {
     "name": "stdout",
     "output_type": "stream",
     "text": [
      "Total articles scraped: 8\n"
     ]
    }
   ],
   "source": [
    "rows = []  # List to store all article dicts\n",
    "\n",
    "for rank, item in enumerate(article, start=1):\n",
    "    row = {}\n",
    "\n",
    "    # Title (required)\n",
    "    title_tag = item.find('h3', class_='c-card__hed-text')\n",
    "    row['Rank'] = rank \n",
    "    row['Article title'] = title_tag.get_text(strip=True) if title_tag else \"No title found\"\n",
    "\n",
    "    # URL (required)\n",
    "    href = item.get('href', '')\n",
    "    base_url = \"https://www.theglobeandmail.com\"\n",
    "    row['url'] = base_url + href if href.startswith('/') else href\n",
    "\n",
    "    # Byline / Author\n",
    "    author_tag = item.find('span', class_='c-card__author')\n",
    "    row['Byline'] = author_tag.get_text(strip=True) if author_tag else \"No byline found\"\n",
    "\n",
    "    # Article type / Label (e.g., \"Opinion\")\n",
    "    label_tag = item.find('span', class_='tgam-label')\n",
    "    row['Article type'] = label_tag.get_text(strip=True) if label_tag else \"No article type found\"\n",
    "\n",
    "    rows.append(row)\n",
    "\n",
    "print(f\"Total articles scraped: {len(rows)}\")\n"
   ]
  },
  {
   "cell_type": "code",
   "execution_count": 50,
   "id": "06b21906-d98c-4301-aa8a-f51f2f0ba728",
   "metadata": {},
   "outputs": [],
   "source": [
    "df = pd.json_normalize(rows)"
   ]
  },
  {
   "cell_type": "code",
   "execution_count": 51,
   "id": "75ef3117-f790-49ae-bd4a-ce17354de065",
   "metadata": {},
   "outputs": [
    {
     "data": {
      "text/html": [
       "<div>\n",
       "<style scoped>\n",
       "    .dataframe tbody tr th:only-of-type {\n",
       "        vertical-align: middle;\n",
       "    }\n",
       "\n",
       "    .dataframe tbody tr th {\n",
       "        vertical-align: top;\n",
       "    }\n",
       "\n",
       "    .dataframe thead th {\n",
       "        text-align: right;\n",
       "    }\n",
       "</style>\n",
       "<table border=\"1\" class=\"dataframe\">\n",
       "  <thead>\n",
       "    <tr style=\"text-align: right;\">\n",
       "      <th></th>\n",
       "      <th>Rank</th>\n",
       "      <th>Article title</th>\n",
       "      <th>url</th>\n",
       "      <th>Byline</th>\n",
       "      <th>Article type</th>\n",
       "    </tr>\n",
       "  </thead>\n",
       "  <tbody>\n",
       "    <tr>\n",
       "      <th>0</th>\n",
       "      <td>1</td>\n",
       "      <td>In rural B.C., frequent ER closings show how ‘...</td>\n",
       "      <td>https://www.theglobeandmail.com/canada/article...</td>\n",
       "      <td>No byline found</td>\n",
       "      <td>No article type found</td>\n",
       "    </tr>\n",
       "    <tr>\n",
       "      <th>1</th>\n",
       "      <td>2</td>\n",
       "      <td>What was Mark Carney thinking when he walked b...</td>\n",
       "      <td>https://www.theglobeandmail.com/business/comme...</td>\n",
       "      <td>Taylor C. Noakes</td>\n",
       "      <td>Opinion</td>\n",
       "    </tr>\n",
       "    <tr>\n",
       "      <th>2</th>\n",
       "      <td>3</td>\n",
       "      <td>Syrian government and leaders of Druze minorit...</td>\n",
       "      <td>https://www.theglobeandmail.com/world/article-...</td>\n",
       "      <td>No byline found</td>\n",
       "      <td>No article type found</td>\n",
       "    </tr>\n",
       "    <tr>\n",
       "      <th>3</th>\n",
       "      <td>4</td>\n",
       "      <td>‘The door is now firmly slammed shut on a July...</td>\n",
       "      <td>https://www.theglobeandmail.com/investing/mark...</td>\n",
       "      <td>No byline found</td>\n",
       "      <td>No article type found</td>\n",
       "    </tr>\n",
       "    <tr>\n",
       "      <th>4</th>\n",
       "      <td>5</td>\n",
       "      <td>With Epstein conspiracy theories, Trump faces ...</td>\n",
       "      <td>https://www.theglobeandmail.com/world/article-...</td>\n",
       "      <td>No byline found</td>\n",
       "      <td>No article type found</td>\n",
       "    </tr>\n",
       "    <tr>\n",
       "      <th>5</th>\n",
       "      <td>6</td>\n",
       "      <td>RCMP arrest alleged hijacker at Vancouver airp...</td>\n",
       "      <td>https://www.theglobeandmail.com/canada/article...</td>\n",
       "      <td>No byline found</td>\n",
       "      <td>No article type found</td>\n",
       "    </tr>\n",
       "    <tr>\n",
       "      <th>6</th>\n",
       "      <td>7</td>\n",
       "      <td>Giller Prize says it will be forced to cease o...</td>\n",
       "      <td>https://www.theglobeandmail.com/arts/books/art...</td>\n",
       "      <td>No byline found</td>\n",
       "      <td>No article type found</td>\n",
       "    </tr>\n",
       "    <tr>\n",
       "      <th>7</th>\n",
       "      <td>8</td>\n",
       "      <td>How Australia fell in love with supersized roa...</td>\n",
       "      <td>https://www.theglobeandmail.com/world/article-...</td>\n",
       "      <td>No byline found</td>\n",
       "      <td>No article type found</td>\n",
       "    </tr>\n",
       "  </tbody>\n",
       "</table>\n",
       "</div>"
      ],
      "text/plain": [
       "   Rank                                      Article title  \\\n",
       "0     1  In rural B.C., frequent ER closings show how ‘...   \n",
       "1     2  What was Mark Carney thinking when he walked b...   \n",
       "2     3  Syrian government and leaders of Druze minorit...   \n",
       "3     4  ‘The door is now firmly slammed shut on a July...   \n",
       "4     5  With Epstein conspiracy theories, Trump faces ...   \n",
       "5     6  RCMP arrest alleged hijacker at Vancouver airp...   \n",
       "6     7  Giller Prize says it will be forced to cease o...   \n",
       "7     8  How Australia fell in love with supersized roa...   \n",
       "\n",
       "                                                 url            Byline  \\\n",
       "0  https://www.theglobeandmail.com/canada/article...   No byline found   \n",
       "1  https://www.theglobeandmail.com/business/comme...  Taylor C. Noakes   \n",
       "2  https://www.theglobeandmail.com/world/article-...   No byline found   \n",
       "3  https://www.theglobeandmail.com/investing/mark...   No byline found   \n",
       "4  https://www.theglobeandmail.com/world/article-...   No byline found   \n",
       "5  https://www.theglobeandmail.com/canada/article...   No byline found   \n",
       "6  https://www.theglobeandmail.com/arts/books/art...   No byline found   \n",
       "7  https://www.theglobeandmail.com/world/article-...   No byline found   \n",
       "\n",
       "            Article type  \n",
       "0  No article type found  \n",
       "1                Opinion  \n",
       "2  No article type found  \n",
       "3  No article type found  \n",
       "4  No article type found  \n",
       "5  No article type found  \n",
       "6  No article type found  \n",
       "7  No article type found  "
      ]
     },
     "execution_count": 51,
     "metadata": {},
     "output_type": "execute_result"
    }
   ],
   "source": [
    "df.head(10)"
   ]
  },
  {
   "cell_type": "code",
   "execution_count": 84,
   "id": "ea0a5f26-56f1-4d3c-8acd-e6c3c305db02",
   "metadata": {},
   "outputs": [],
   "source": [
    "df.to_csv(\"GlobeAndMailScrape.csv\")"
   ]
  },
  {
   "cell_type": "code",
   "execution_count": null,
   "id": "e0d7e682-5de0-4418-886e-3383650d959a",
   "metadata": {},
   "outputs": [],
   "source": []
  }
 ],
 "metadata": {
  "kernelspec": {
   "display_name": "Python 3 (ipykernel)",
   "language": "python",
   "name": "python3"
  },
  "language_info": {
   "codemirror_mode": {
    "name": "ipython",
    "version": 3
   },
   "file_extension": ".py",
   "mimetype": "text/x-python",
   "name": "python",
   "nbconvert_exporter": "python",
   "pygments_lexer": "ipython3",
   "version": "3.12.10"
  }
 },
 "nbformat": 4,
 "nbformat_minor": 5
}
