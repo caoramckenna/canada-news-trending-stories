{
 "cells": [
  {
   "cell_type": "code",
   "execution_count": 46,
   "id": "a9fff595-b424-4d91-8e7f-93cec64d94f7",
   "metadata": {},
   "outputs": [],
   "source": [
    "Project two part 3\n",
    "\n",
    "# Scrape the content of CTV's trending section and save it as a CSV.\n",
    "\n",
    "# We want: titles, subhead, article URL, byline, article type.\n",
    "\n",
    "# Bonus, if you want to get fancy:\n",
    "\n",
    "#     Make the CSV file auto-updating. Use this tutorial (https://www.youtube.com/watch?v=QNKxzkNpsko) (https://jonathansoma.com/everything/git/auto-updating-scaper-viz/) \n"
   ]
  },
  {
   "cell_type": "code",
   "execution_count": 47,
   "id": "e22aedaa-57f7-413a-b261-c13dcfe7110e",
   "metadata": {},
   "outputs": [],
   "source": [
    "#Columns: title, subhead, article URL, whether it's premium or not, byline, article type, image URL."
   ]
  },
  {
   "cell_type": "code",
   "execution_count": 4,
   "id": "da817ec6-a58b-4e0a-972c-74362067189c",
   "metadata": {},
   "outputs": [],
   "source": [
    "import requests\n",
    "from bs4 import BeautifulSoup\n",
    "import pandas as pd\n",
    "\n",
    "url = \"https://www.ctvnews.ca/\"\n",
    "\n",
    "#for anonymnity\n",
    "headers = {\n",
    "    'User-Agent': 'Mozilla/5.0 (Windows NT 10.0; Win64; x64) AppleWebKit/537.36 (KHTML, like Gecko) Chrome/115.0 Safari/537.36'\n",
    "}\n",
    "\n",
    "response = requests.get(url, headers=headers)\n",
    "\n",
    "# Check if the request was successful\n",
    "if response.status_code == 200:\n",
    "    doc = BeautifulSoup(response.text, 'html.parser')\n",
    "    # Now you can use soup.find(), soup.find_all(), etc.\n",
    "else:\n",
    "    print(f\"Request failed with status code: {response.status_code}\")\n"
   ]
  },
  {
   "cell_type": "code",
   "execution_count": 12,
   "id": "5669a121-116d-4582-803e-d47af068e45a",
   "metadata": {},
   "outputs": [
    {
     "name": "stdout",
     "output_type": "stream",
     "text": [
      "HTML saved to CTV_homepage.html\n"
     ]
    }
   ],
   "source": [
    "with open(\"CTV_homepage.html\", \"w\", encoding=\"utf-8\") as f:\n",
    "    f.write(response.text)\n",
    "\n",
    "print(\"HTML saved to CTV_homepage.html\")"
   ]
  },
  {
   "cell_type": "code",
   "execution_count": 13,
   "id": "d56e4fe8-4f76-4b15-9761-351d9b4df201",
   "metadata": {},
   "outputs": [],
   "source": [
    "with open(\"CTV_homepage.html\", \"r\", encoding=\"utf-8\") as f:\n",
    "    html = f.read()\n",
    "\n",
    "soup = BeautifulSoup(html, \"html.parser\")"
   ]
  },
  {
   "cell_type": "code",
   "execution_count": 6,
   "id": "dec96967-971c-4508-8e04-25440503f097",
   "metadata": {},
   "outputs": [],
   "source": [
    "#Locate the Top Videos section container\n",
    "top_videos_container = soup.find(\"div\", class_=\"c-grid b-standard-list-custom__items\")\n"
   ]
  },
  {
   "cell_type": "code",
   "execution_count": 7,
   "id": "93462046-e7c9-4c48-8936-d4601fca292a",
   "metadata": {},
   "outputs": [],
   "source": [
    "#Find all article items inside\n",
    "video_articles = top_videos_container.find_all(\"article\", class_=\"c-stack b-standard-list-custom__item\")\n"
   ]
  },
  {
   "cell_type": "code",
   "execution_count": 8,
   "id": "87916d2c-95ea-4ff2-b393-c8b8828560c9",
   "metadata": {},
   "outputs": [
    {
     "name": "stdout",
     "output_type": "stream",
     "text": [
      "There are 8 articles in the trending box\n"
     ]
    }
   ],
   "source": [
    "#Check how many, there should be 8, though sometimes there could be 9 it looks like \n",
    "print(f\"There are {len(video_articles)} articles in the trending box\")"
   ]
  },
  {
   "cell_type": "code",
   "execution_count": 9,
   "id": "e6b142ea-7d6d-4567-84f0-d5fdb3684e67",
   "metadata": {},
   "outputs": [
    {
     "name": "stdout",
     "output_type": "stream",
     "text": [
      "Rank: 1\n",
      "Title: Caught\n",
      "                    on camera: Tomorrowland music festival stage goes up in flames in Belgium\n",
      "URL: https://www.ctvnews.ca/video/2025/07/16/caught-on-camera-tomorrowland-music-festival-stage-goes-up-in-flames-in-belgium/\n",
      "---\n",
      "Rank: 2\n",
      "Title: ‘Shifting\n",
      "                    from reliance to resilience’: PM Carney announces restrictions on foreign steel imports\n",
      "URL: https://www.ctvnews.ca/video/2025/07/16/shifting-from-reliance-to-resilience-pm-carney-announces-restrictions-on-foreign-steel-imports/\n",
      "---\n",
      "Rank: 3\n",
      "Title: Algoma\n",
      "                    Steel president seeks access, trade certainty, and support after PM Carney announcement\n",
      "URL: https://www.ctvnews.ca/video/2025/07/16/algoma-steel-president-seeks-access-trade-certainty-and-support-after-pm-carney-announcement/\n",
      "---\n",
      "Rank: 4\n",
      "Title: Supreme\n",
      "                    Steel president: ‘PM Carney is making a bet on Canadian innovation’\n",
      "URL: https://www.ctvnews.ca/video/2025/07/16/supreme-steel-president-pm-carney-is-making-a-bet-on-canadian-innovation/\n",
      "---\n",
      "Rank: 5\n",
      "Title: Watch\n",
      "                    the moment a car flips onto its roof on a Coquitlam, B.C. street\n",
      "URL: https://www.ctvnews.ca/vancouver/video/2025/07/16/car-flips-onto-roof-on-coquitlam-street/\n",
      "---\n",
      "Rank: 6\n",
      "Title: Trump\n",
      "                    slams MAGA supporters calling for the release Epstein files\n",
      "URL: https://www.ctvnews.ca/video/2025/07/16/trump-slams-maga-supporters-calling-for-the-release-epstein-files/\n",
      "---\n",
      "Rank: 7\n",
      "Title: Here’s\n",
      "                    what we know about the new restrictions on steel imports\n",
      "URL: https://www.ctvnews.ca/video/2025/07/16/heres-what-we-know-about-the-new-restrictions-on-steel-imports/\n",
      "---\n",
      "Rank: 8\n",
      "Title: ‘A\n",
      "                    lot of political conflation’ ahead of Indigenous leaders’ meeting with PM Carney: Palmater\n",
      "URL: https://www.ctvnews.ca/video/2025/07/16/a-lot-of-political-conflation-ahead-of-indigenous-leaders-meeting-with-pm-carney-palmater/\n",
      "---\n"
     ]
    }
   ],
   "source": [
    "# Loop through the eight elements in the list, pulling the information I want \n",
    "for rank, link in enumerate(video_articles, start=1):\n",
    "    title_tag = link.find(\"h3\")\n",
    "    link_tag = title_tag.find(\"a\") if title_tag else None\n",
    "    label_tag = link.find('span', class_='tgam-label')\n",
    "\n",
    "    title = title_tag.get_text(strip=True) if title_tag else 'No title'\n",
    "    href = link_tag.get('href', '') if link_tag else ''\n",
    "    full_url = url + href if href.startswith('/') else href\n",
    "\n",
    "    print(\"Rank:\", rank)\n",
    "    print(\"Title:\", title)\n",
    "    print(\"URL:\", full_url)\n",
    "    print(\"---\")"
   ]
  },
  {
   "cell_type": "code",
   "execution_count": 10,
   "id": "7658c6df-88e4-4629-87fc-c842c3a38bab",
   "metadata": {},
   "outputs": [],
   "source": [
    "#Loop and extract data\n",
    "rows = []\n",
    "for rank, item in enumerate(video_articles, start=1):\n",
    "    row = {}\n",
    "    # Rank\n",
    "    row[\"rank\"] = rank\n",
    "    \n",
    "    # Title\n",
    "    headline_tag = item.find(\"h3\")\n",
    "    row[\"title\"] = headline_tag.get_text(strip=True) if headline_tag else \"No title\"\n",
    "    \n",
    "    # URL \n",
    "    link_tag = headline_tag.find(\"a\") if headline_tag else None\n",
    "    href = link_tag.get(\"href\", \"\") if link_tag else \"\"\n",
    "    row[\"url\"] = href if href.startswith(\"http\") else f\"https://www.ctvnews.ca{href}\" if href else \"No URL\"\n",
    "\n",
    "    \n",
    "\n",
    "    rows.append(row)"
   ]
  },
  {
   "cell_type": "code",
   "execution_count": 11,
   "id": "a1bee8a9-1795-4448-b594-f97d72b48d2f",
   "metadata": {},
   "outputs": [],
   "source": [
    "import pandas as pd"
   ]
  },
  {
   "cell_type": "code",
   "execution_count": 39,
   "id": "50d7d896-ea7f-4897-af4d-95af311aec13",
   "metadata": {},
   "outputs": [],
   "source": [
    "df = pd.json_normalize(rows)"
   ]
  },
  {
   "cell_type": "code",
   "execution_count": 40,
   "id": "75ef3117-f790-49ae-bd4a-ce17354de065",
   "metadata": {},
   "outputs": [
    {
     "data": {
      "text/html": [
       "<div>\n",
       "<style scoped>\n",
       "    .dataframe tbody tr th:only-of-type {\n",
       "        vertical-align: middle;\n",
       "    }\n",
       "\n",
       "    .dataframe tbody tr th {\n",
       "        vertical-align: top;\n",
       "    }\n",
       "\n",
       "    .dataframe thead th {\n",
       "        text-align: right;\n",
       "    }\n",
       "</style>\n",
       "<table border=\"1\" class=\"dataframe\">\n",
       "  <thead>\n",
       "    <tr style=\"text-align: right;\">\n",
       "      <th></th>\n",
       "      <th>rank</th>\n",
       "      <th>title</th>\n",
       "      <th>url</th>\n",
       "    </tr>\n",
       "  </thead>\n",
       "  <tbody>\n",
       "    <tr>\n",
       "      <th>0</th>\n",
       "      <td>1</td>\n",
       "      <td>Caught on camera: Tomorrowland music festival ...</td>\n",
       "      <td>https://www.ctvnews.ca/video/2025/07/16/caught...</td>\n",
       "    </tr>\n",
       "    <tr>\n",
       "      <th>1</th>\n",
       "      <td>2</td>\n",
       "      <td>‘Shifting from reliance to resilience’: PM Car...</td>\n",
       "      <td>https://www.ctvnews.ca/video/2025/07/16/shifti...</td>\n",
       "    </tr>\n",
       "    <tr>\n",
       "      <th>2</th>\n",
       "      <td>3</td>\n",
       "      <td>Algoma Steel president seeks access, trade cer...</td>\n",
       "      <td>https://www.ctvnews.ca/video/2025/07/16/algoma...</td>\n",
       "    </tr>\n",
       "    <tr>\n",
       "      <th>3</th>\n",
       "      <td>4</td>\n",
       "      <td>Supreme Steel president: ‘PM Carney is making ...</td>\n",
       "      <td>https://www.ctvnews.ca/video/2025/07/16/suprem...</td>\n",
       "    </tr>\n",
       "    <tr>\n",
       "      <th>4</th>\n",
       "      <td>5</td>\n",
       "      <td>Watch the moment a car flips onto its roof on ...</td>\n",
       "      <td>https://www.ctvnews.ca/vancouver/video/2025/07...</td>\n",
       "    </tr>\n",
       "    <tr>\n",
       "      <th>5</th>\n",
       "      <td>6</td>\n",
       "      <td>Trump slams MAGA supporters calling for the re...</td>\n",
       "      <td>https://www.ctvnews.ca/video/2025/07/16/trump-...</td>\n",
       "    </tr>\n",
       "    <tr>\n",
       "      <th>6</th>\n",
       "      <td>7</td>\n",
       "      <td>Here’s what we know about the new restrictions...</td>\n",
       "      <td>https://www.ctvnews.ca/video/2025/07/16/heres-...</td>\n",
       "    </tr>\n",
       "    <tr>\n",
       "      <th>7</th>\n",
       "      <td>8</td>\n",
       "      <td>‘A lot of political conflation’ ahead of Indig...</td>\n",
       "      <td>https://www.ctvnews.ca/video/2025/07/16/a-lot-...</td>\n",
       "    </tr>\n",
       "  </tbody>\n",
       "</table>\n",
       "</div>"
      ],
      "text/plain": [
       "   rank                                              title  \\\n",
       "0     1  Caught on camera: Tomorrowland music festival ...   \n",
       "1     2  ‘Shifting from reliance to resilience’: PM Car...   \n",
       "2     3  Algoma Steel president seeks access, trade cer...   \n",
       "3     4  Supreme Steel president: ‘PM Carney is making ...   \n",
       "4     5  Watch the moment a car flips onto its roof on ...   \n",
       "5     6  Trump slams MAGA supporters calling for the re...   \n",
       "6     7  Here’s what we know about the new restrictions...   \n",
       "7     8  ‘A lot of political conflation’ ahead of Indig...   \n",
       "\n",
       "                                                 url  \n",
       "0  https://www.ctvnews.ca/video/2025/07/16/caught...  \n",
       "1  https://www.ctvnews.ca/video/2025/07/16/shifti...  \n",
       "2  https://www.ctvnews.ca/video/2025/07/16/algoma...  \n",
       "3  https://www.ctvnews.ca/video/2025/07/16/suprem...  \n",
       "4  https://www.ctvnews.ca/vancouver/video/2025/07...  \n",
       "5  https://www.ctvnews.ca/video/2025/07/16/trump-...  \n",
       "6  https://www.ctvnews.ca/video/2025/07/16/heres-...  \n",
       "7  https://www.ctvnews.ca/video/2025/07/16/a-lot-...  "
      ]
     },
     "execution_count": 40,
     "metadata": {},
     "output_type": "execute_result"
    }
   ],
   "source": [
    "df.head(10)"
   ]
  },
  {
   "cell_type": "code",
   "execution_count": 41,
   "id": "7d6de629-34f1-42ff-bbb8-24bdb3f54b1d",
   "metadata": {},
   "outputs": [
    {
     "data": {
      "text/plain": [
       "0    https://www.ctvnews.ca/video/2025/07/16/caught...\n",
       "1    https://www.ctvnews.ca/video/2025/07/16/shifti...\n",
       "2    https://www.ctvnews.ca/video/2025/07/16/algoma...\n",
       "3    https://www.ctvnews.ca/video/2025/07/16/suprem...\n",
       "4    https://www.ctvnews.ca/vancouver/video/2025/07...\n",
       "5    https://www.ctvnews.ca/video/2025/07/16/trump-...\n",
       "6    https://www.ctvnews.ca/video/2025/07/16/heres-...\n",
       "7    https://www.ctvnews.ca/video/2025/07/16/a-lot-...\n",
       "Name: url, dtype: object"
      ]
     },
     "execution_count": 41,
     "metadata": {},
     "output_type": "execute_result"
    }
   ],
   "source": [
    "df['url']\n"
   ]
  },
  {
   "cell_type": "code",
   "execution_count": 84,
   "id": "ea0a5f26-56f1-4d3c-8acd-e6c3c305db02",
   "metadata": {},
   "outputs": [],
   "source": [
    "df.to_csv(\"CTVScrape.csv\")"
   ]
  },
  {
   "cell_type": "code",
   "execution_count": null,
   "id": "e0d7e682-5de0-4418-886e-3383650d959a",
   "metadata": {},
   "outputs": [],
   "source": []
  }
 ],
 "metadata": {
  "kernelspec": {
   "display_name": "Python 3 (ipykernel)",
   "language": "python",
   "name": "python3"
  },
  "language_info": {
   "codemirror_mode": {
    "name": "ipython",
    "version": 3
   },
   "file_extension": ".py",
   "mimetype": "text/x-python",
   "name": "python",
   "nbconvert_exporter": "python",
   "pygments_lexer": "ipython3",
   "version": "3.12.10"
  }
 },
 "nbformat": 4,
 "nbformat_minor": 5
}
