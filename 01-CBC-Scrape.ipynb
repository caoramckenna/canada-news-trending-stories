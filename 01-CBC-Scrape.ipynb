{
 "cells": [
  {
   "cell_type": "code",
   "execution_count": 46,
   "id": "a9fff595-b424-4d91-8e7f-93cec64d94f7",
   "metadata": {},
   "outputs": [],
   "source": [
    "Project two part 1\n",
    "\n",
    "# Scrape the content of CBC's 's Popular now section and save it as a CSV.\n",
    "\n",
    "# We want: titles, article URL, byline, article type, image URL.\n",
    "\n",
    "# Bonus, if you want to get fancy:\n",
    "\n",
    "#     Make the CSV file auto-updating. Use this tutorial (https://www.youtube.com/watch?v=QNKxzkNpsko) (https://jonathansoma.com/everything/git/auto-updating-scaper-viz/) \n"
   ]
  },
  {
   "cell_type": "code",
   "execution_count": 47,
   "id": "e22aedaa-57f7-413a-b261-c13dcfe7110e",
   "metadata": {},
   "outputs": [],
   "source": [
    "#Columns: title, subhead, article URL, whether it's premium or not, byline, article type, image URL."
   ]
  },
  {
   "cell_type": "code",
   "execution_count": 48,
   "id": "48053001-467e-4108-a1e3-1a2d28ddb803",
   "metadata": {},
   "outputs": [],
   "source": [
    "import os\n",
    "import random\n",
    "import time\n",
    "\n",
    "from playwright.async_api import async_playwright, expect"
   ]
  },
  {
   "cell_type": "code",
   "execution_count": 49,
   "id": "578b8321-c069-4399-af0a-1c7529ca7be0",
   "metadata": {},
   "outputs": [],
   "source": [
    "os.makedirs('data/', exist_ok=True)"
   ]
  },
  {
   "cell_type": "code",
   "execution_count": 50,
   "id": "3881de55-35c4-469f-a3c2-6544b924ab19",
   "metadata": {},
   "outputs": [],
   "source": [
    "async def open_browser(headless=False):\n",
    "    \"\"\"\n",
    "    Starts the automated browser and opens a new window\n",
    "    \"\"\"\n",
    "    # Start playwright\n",
    "    playwright = await async_playwright().start()\n",
    "\n",
    "    # Assign a random user agent (optional, shown below)\n",
    "    user_agent = \"Mozilla/5.0 (Windows NT 10.0; Win64; x64) AppleWebKit/537.36 (KHTML, like Gecko) Chrome/115.0.0.0 Safari/537.36\"\n",
    "\n",
    "    # Open firefox browser, can use chromium or webkit\n",
    "    browser = await playwright.firefox.launch(headless=headless)\n",
    "\n",
    "    # Create a new browser context (for setting user agent, etc.)\n",
    "    context = await browser.new_context(user_agent=user_agent)\n",
    "\n",
    "    # Create a new browser window (tab)\n",
    "    page = await context.new_page()\n",
    "\n",
    "    return browser, page"
   ]
  },
  {
   "cell_type": "code",
   "execution_count": 57,
   "id": "128c5b80-8312-44ba-a3e4-027656fd782b",
   "metadata": {},
   "outputs": [],
   "source": [
    "url = \"https://www.cbc.ca/news\""
   ]
  },
  {
   "cell_type": "code",
   "execution_count": 58,
   "id": "e6f17038-5def-46f7-8ae1-35bc357221da",
   "metadata": {},
   "outputs": [],
   "source": [
    "async def open_browser(headless=False):\n",
    "    playwright = await async_playwright().start()\n",
    "    user_agent = \"Mozilla/5.0 (Windows NT 10.0; Win64; x64) AppleWebKit/537.36 (KHTML, like Gecko) Chrome/115.0.0.0 Safari/537.36\"\n",
    "    browser = await playwright.firefox.launch(headless=headless)\n",
    "    context = await browser.new_context(user_agent=user_agent)\n",
    "    page = await context.new_page()\n",
    "    return browser, page"
   ]
  },
  {
   "cell_type": "code",
   "execution_count": 59,
   "id": "2f563492-809d-496f-adbe-08033d80c32a",
   "metadata": {},
   "outputs": [],
   "source": [
    "async def save_html_from_url(url, filename=\"cbc_homepage.html\"):\n",
    "    browser, page = await open_browser()\n",
    "    await page.goto(url, timeout=60000)\n",
    "    # Wait for the top stories section to load (vital for dynamic JS pages)\n",
    "    await page.wait_for_selector('ol[data-cy=\"topStories\"]', timeout=10000)\n",
    "    # Optional: wait extra time if needed\n",
    "    await page.wait_for_timeout(2000)\n",
    "\n",
    "    # Get and save HTML content\n",
    "    html = await page.content()\n",
    "    with open(filename, \"w\", encoding=\"utf-8\") as f:\n",
    "        f.write(html)\n",
    "\n",
    "    await browser.close()"
   ]
  },
  {
   "cell_type": "code",
   "execution_count": 60,
   "id": "a20b27be-fe80-4e3a-8872-a12469214b4c",
   "metadata": {},
   "outputs": [],
   "source": [
    "#save the html file for parsing\n",
    "await save_html_from_url(url)"
   ]
  },
  {
   "cell_type": "code",
   "execution_count": 61,
   "id": "b028b71e-3e2f-4c54-b794-e52b739b94a1",
   "metadata": {},
   "outputs": [],
   "source": [
    "import requests\n",
    "from bs4 import BeautifulSoup\n",
    "import pandas as pd"
   ]
  },
  {
   "cell_type": "code",
   "execution_count": 63,
   "id": "d8da28e8-9fec-4485-8ed6-12a5639966a2",
   "metadata": {},
   "outputs": [],
   "source": [
    "# Load the saved HTML\n",
    "with open(\"cbc_homepage.html\", \"r\", encoding=\"utf-8\") as f:\n",
    "    html = f.read()\n",
    "\n",
    "doc = BeautifulSoup(html, \"html.parser\")"
   ]
  },
  {
   "cell_type": "code",
   "execution_count": null,
   "id": "f574a45d-43de-4c1d-9ddd-e6cffb2ddf4d",
   "metadata": {},
   "outputs": [],
   "source": []
  },
  {
   "cell_type": "code",
   "execution_count": 12,
   "id": "8e665198-5c8e-47d7-9c66-7dd4c13a2ced",
   "metadata": {},
   "outputs": [
    {
     "name": "stdout",
     "output_type": "stream",
     "text": [
      "HTML saved to CBC_homepage.html\n"
     ]
    }
   ],
   "source": [
    "# #this told me the whole page isn't being loaded, so I need to switch to playwright to get the page, and then can return to beautiful soup\n",
    "# with open(\"CBC_homepage.html\", \"w\", encoding=\"utf-8\") as f:\n",
    "#     f.write(response.text)\n",
    "\n",
    "# print(\"HTML saved to CBC_homepage.html\")"
   ]
  },
  {
   "cell_type": "code",
   "execution_count": 64,
   "id": "5e6b07f5-5789-41cb-a6ba-b9c7547f7afc",
   "metadata": {},
   "outputs": [
    {
     "name": "stdout",
     "output_type": "stream",
     "text": [
      "Found 5 top stories.\n"
     ]
    }
   ],
   "source": [
    "# Find the container with the popular stories\n",
    "popular_section = soup.select_one('ol[data-cy=\"topStories\"]')\n",
    "\n",
    "#find all the article in the trending section (there are 5) \n",
    "cards = popular_section.find_all(\"li\", class_=\"card\")\n",
    "print(f\"Found {len(cards)} top stories.\")\n"
   ]
  },
  {
   "cell_type": "code",
   "execution_count": 72,
   "id": "34b803ae-4642-464a-bdd4-91f838549392",
   "metadata": {},
   "outputs": [
    {
     "name": "stdout",
     "output_type": "stream",
     "text": [
      "Rank: 1\n",
      "Title: Carney promises to curb non-U.S. steel imports as domestic industry sends out distress signals\n",
      "URL: https://www.cbc.ca/news/news/politics/carney-steel-support-steel-1.7586256\n",
      "---\n",
      "Rank: 2\n",
      "Title: 'I actually cried': 1st-time homebuyer enters a northern Ontario market in financial crisis\n",
      "URL: https://www.cbc.ca/news/news/canada/sudbury/fauquier-strickland-homebuyer-1.7585555\n",
      "---\n",
      "Rank: 3\n",
      "Title: The 'Gen Z stare' mocks youth for staring into the void, but is anyone laughing?\n",
      "URL: https://www.cbc.ca/news/news/canada/gen-z-stare-1.7584710\n",
      "---\n",
      "Rank: 4\n",
      "Title: RCMP forensics examining pink blanket found during search for missing N.S. children\n",
      "URL: https://www.cbc.ca/news/news/canada/nova-scotia/rcmp-forensic-examining-blanket-found-during-search-of-missing-n-s-children-1.7586162\n",
      "---\n",
      "Rank: 5\n",
      "Title: More than 900 ex-U.S. Justice Dept. employees warn against Trump judicial nominee Emil Bove\n",
      "URL: https://www.cbc.ca/news/news/world/emil-bove-nomination-warning-former-justice-department-employees-1.7586522\n",
      "---\n"
     ]
    }
   ],
   "source": [
    "# Loop through the eight elements in the list, pulling the information I want \n",
    "for article in cards:\n",
    "    rank_tag = article.find(\"span\", class_=\"rankIndicator\")\n",
    "    title_tag = article.find(\"h3\", class_=\"headline\")\n",
    "    link_tag = article.find(\"a\", class_=\"headlineLink\")\n",
    "\n",
    "    rank = rank_tag.get_text(strip=True) if rank_tag else 'No rank'\n",
    "    title = title_tag.get_text(strip=True) if title_tag else 'No title'\n",
    "    href = link_tag.get('href', '')\n",
    "    full_url = url + href if href.startswith('/') else href\n",
    "\n",
    "    print(\"Rank:\", rank)\n",
    "    print(\"Title:\", title)\n",
    "    print(\"URL:\", full_url)\n",
    "    print(\"---\")"
   ]
  },
  {
   "cell_type": "code",
   "execution_count": 73,
   "id": "57c77619-9522-412b-880f-8ee9c5151999",
   "metadata": {},
   "outputs": [
    {
     "name": "stdout",
     "output_type": "stream",
     "text": [
      "Total articles scraped: 5\n"
     ]
    }
   ],
   "source": [
    "rows = []  # List to store all article dicts\n",
    "\n",
    "for article in cards:\n",
    "    row = {}\n",
    "    # Rank (required) \n",
    "    rank_tag = article.find(\"span\", class_=\"rankIndicator\")\n",
    "    row['Rank'] = rank_tag.get_text(strip=True) if rank_tag else 'No rank'\n",
    "    \n",
    "    # Title (required)\n",
    "    title_tag = article.find(\"h3\", class_=\"headline\")\n",
    "    row['Article title'] = title_tag.get_text(strip=True) if title_tag else 'No title'\n",
    "\n",
    "    # URL (required)\n",
    "    link_tag = article.find(\"a\", class_=\"headlineLink\")\n",
    "    href = link_tag.get('href', '')\n",
    "    base_url = \"https://www.theglobeandmail.com\"\n",
    "    row['url'] = base_url + href if href.startswith('/') else href\n",
    "\n",
    "    rows.append(row)\n",
    "\n",
    "print(f\"Total articles scraped: {len(rows)}\")\n"
   ]
  },
  {
   "cell_type": "code",
   "execution_count": 74,
   "id": "06b21906-d98c-4301-aa8a-f51f2f0ba728",
   "metadata": {},
   "outputs": [],
   "source": [
    "df = pd.json_normalize(rows)"
   ]
  },
  {
   "cell_type": "code",
   "execution_count": 75,
   "id": "75ef3117-f790-49ae-bd4a-ce17354de065",
   "metadata": {},
   "outputs": [
    {
     "data": {
      "text/html": [
       "<div>\n",
       "<style scoped>\n",
       "    .dataframe tbody tr th:only-of-type {\n",
       "        vertical-align: middle;\n",
       "    }\n",
       "\n",
       "    .dataframe tbody tr th {\n",
       "        vertical-align: top;\n",
       "    }\n",
       "\n",
       "    .dataframe thead th {\n",
       "        text-align: right;\n",
       "    }\n",
       "</style>\n",
       "<table border=\"1\" class=\"dataframe\">\n",
       "  <thead>\n",
       "    <tr style=\"text-align: right;\">\n",
       "      <th></th>\n",
       "      <th>Rank</th>\n",
       "      <th>Article title</th>\n",
       "      <th>url</th>\n",
       "    </tr>\n",
       "  </thead>\n",
       "  <tbody>\n",
       "    <tr>\n",
       "      <th>0</th>\n",
       "      <td>1</td>\n",
       "      <td>Carney promises to curb non-U.S. steel imports...</td>\n",
       "      <td>https://www.theglobeandmail.com/news/politics/...</td>\n",
       "    </tr>\n",
       "    <tr>\n",
       "      <th>1</th>\n",
       "      <td>2</td>\n",
       "      <td>'I actually cried': 1st-time homebuyer enters ...</td>\n",
       "      <td>https://www.theglobeandmail.com/news/canada/su...</td>\n",
       "    </tr>\n",
       "    <tr>\n",
       "      <th>2</th>\n",
       "      <td>3</td>\n",
       "      <td>The 'Gen Z stare' mocks youth for staring into...</td>\n",
       "      <td>https://www.theglobeandmail.com/news/canada/ge...</td>\n",
       "    </tr>\n",
       "    <tr>\n",
       "      <th>3</th>\n",
       "      <td>4</td>\n",
       "      <td>RCMP forensics examining pink blanket found du...</td>\n",
       "      <td>https://www.theglobeandmail.com/news/canada/no...</td>\n",
       "    </tr>\n",
       "    <tr>\n",
       "      <th>4</th>\n",
       "      <td>5</td>\n",
       "      <td>More than 900 ex-U.S. Justice Dept. employees ...</td>\n",
       "      <td>https://www.theglobeandmail.com/news/world/emi...</td>\n",
       "    </tr>\n",
       "  </tbody>\n",
       "</table>\n",
       "</div>"
      ],
      "text/plain": [
       "  Rank                                      Article title  \\\n",
       "0    1  Carney promises to curb non-U.S. steel imports...   \n",
       "1    2  'I actually cried': 1st-time homebuyer enters ...   \n",
       "2    3  The 'Gen Z stare' mocks youth for staring into...   \n",
       "3    4  RCMP forensics examining pink blanket found du...   \n",
       "4    5  More than 900 ex-U.S. Justice Dept. employees ...   \n",
       "\n",
       "                                                 url  \n",
       "0  https://www.theglobeandmail.com/news/politics/...  \n",
       "1  https://www.theglobeandmail.com/news/canada/su...  \n",
       "2  https://www.theglobeandmail.com/news/canada/ge...  \n",
       "3  https://www.theglobeandmail.com/news/canada/no...  \n",
       "4  https://www.theglobeandmail.com/news/world/emi...  "
      ]
     },
     "execution_count": 75,
     "metadata": {},
     "output_type": "execute_result"
    }
   ],
   "source": [
    "df.head(10)"
   ]
  },
  {
   "cell_type": "code",
   "execution_count": 84,
   "id": "ea0a5f26-56f1-4d3c-8acd-e6c3c305db02",
   "metadata": {},
   "outputs": [],
   "source": [
    "df.to_csv(\"CBCScrape`.csv\")"
   ]
  },
  {
   "cell_type": "code",
   "execution_count": null,
   "id": "e0d7e682-5de0-4418-886e-3383650d959a",
   "metadata": {},
   "outputs": [],
   "source": []
  }
 ],
 "metadata": {
  "kernelspec": {
   "display_name": "Python 3 (ipykernel)",
   "language": "python",
   "name": "python3"
  },
  "language_info": {
   "codemirror_mode": {
    "name": "ipython",
    "version": 3
   },
   "file_extension": ".py",
   "mimetype": "text/x-python",
   "name": "python",
   "nbconvert_exporter": "python",
   "pygments_lexer": "ipython3",
   "version": "3.12.10"
  }
 },
 "nbformat": 4,
 "nbformat_minor": 5
}
